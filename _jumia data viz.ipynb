{
 "cells": [
  {
   "cell_type": "markdown",
   "id": "cbd252e7",
   "metadata": {},
   "source": [
    "'''Jumia is a Pan-African technology company that is built around a marketplace, logistics service and payment service.\n",
    "The logistics service enables the delivery of packages through a network of local partners\n",
    "while the payment services facilitate the payments of online transactions within Jumia’s ecosystem. \n",
    "\n",
    "The goal of this project is to visualise(interactive plot) the last three months and one month of their trading activity on the new york stock exchange using python and relevant libraries. "
   ]
  },
  {
   "cell_type": "code",
   "execution_count": 1,
   "id": "450eebfd",
   "metadata": {},
   "outputs": [
    {
     "name": "stdout",
     "output_type": "stream",
     "text": [
      "Collecting mljar-mercury\n",
      "  Downloading mljar-mercury-1.1.6.tar.gz (4.5 MB)\n",
      "\u001b[K     |████████████████████████████████| 4.5 MB 2.3 MB/s eta 0:00:01\n",
      "\u001b[?25h  Installing build dependencies ... \u001b[?25ldone\n",
      "\u001b[?25h  Getting requirements to build wheel ... \u001b[?25ldone\n",
      "\u001b[?25h    Preparing wheel metadata ... \u001b[?25ldone\n",
      "\u001b[?25hCollecting markdown==3.3.6\n",
      "  Downloading Markdown-3.3.6-py3-none-any.whl (97 kB)\n",
      "\u001b[K     |████████████████████████████████| 97 kB 6.2 MB/s eta 0:00:011\n",
      "\u001b[?25hCollecting sqlalchemy==1.4.27\n",
      "  Downloading SQLAlchemy-1.4.27.tar.gz (7.9 MB)\n",
      "\u001b[K     |████████████████████████████████| 7.9 MB 2.5 MB/s eta 0:00:01\n",
      "\u001b[?25hCollecting ipykernel==6.6.0\n",
      "  Downloading ipykernel-6.6.0-py3-none-any.whl (126 kB)\n",
      "\u001b[K     |████████████████████████████████| 126 kB 1.2 MB/s eta 0:00:01\n",
      "\u001b[?25hCollecting python-dotenv==0.19.2\n",
      "  Downloading python_dotenv-0.19.2-py2.py3-none-any.whl (17 kB)\n",
      "Collecting django-drf-filepond==0.4.1\n",
      "  Downloading django_drf_filepond-0.4.1-py2.py3-none-any.whl (39 kB)\n",
      "Collecting django==3.2.5\n",
      "  Downloading Django-3.2.5-py3-none-any.whl (7.9 MB)\n",
      "\u001b[K     |████████████████████████████████| 7.9 MB 2.0 MB/s eta 0:00:01\n",
      "\u001b[?25hCollecting gevent==21.12.0\n",
      "  Downloading gevent-21.12.0.tar.gz (6.2 MB)\n",
      "\u001b[K     |████████████████████████████████| 6.2 MB 180 kB/s eta 0:00:01\n",
      "\u001b[?25h  Installing build dependencies ... \u001b[?25lerror\n",
      "\u001b[31m  ERROR: Command errored out with exit status 1:\n",
      "   command: /Applications/anaconda3/bin/python /private/var/folders/k_/m27wbdv90p77wwx5p2t6f4600000gn/T/pip-standalone-pip-_xu723ji/__env_pip__.zip/pip install --ignore-installed --no-user --prefix /private/var/folders/k_/m27wbdv90p77wwx5p2t6f4600000gn/T/pip-build-env-t2uqk3ga/overlay --no-warn-script-location --no-binary :none: --only-binary :none: -i https://pypi.org/simple -- 'setuptools >= 40.8.0' wheel 'Cython >= 3.0a9' 'cffi >= 1.12.3 ; platform_python_implementation == '\"'\"'CPython'\"'\"'' 'greenlet >= 0.4.17, < 2.0 ; platform_python_implementation == '\"'\"'CPython'\"'\"''\n",
      "       cwd: None\n",
      "  Complete output (188 lines):\n",
      "  Collecting setuptools>=40.8.0\n",
      "    Using cached setuptools-67.6.0-py3-none-any.whl (1.1 MB)\n",
      "  Collecting wheel\n",
      "    Using cached wheel-0.40.0-py3-none-any.whl (64 kB)\n",
      "  Collecting Cython>=3.0a9\n",
      "    Downloading Cython-3.0.0b1-cp39-cp39-macosx_10_9_x86_64.whl (3.1 MB)\n",
      "  Collecting cffi>=1.12.3\n",
      "    Downloading cffi-1.15.1-cp39-cp39-macosx_10_9_x86_64.whl (179 kB)\n",
      "  Collecting greenlet<2.0,>=0.4.17\n",
      "    Downloading greenlet-1.1.3.post0.tar.gz (91 kB)\n",
      "  Collecting pycparser\n",
      "    Downloading pycparser-2.21-py2.py3-none-any.whl (118 kB)\n",
      "  Building wheels for collected packages: greenlet\n",
      "    Building wheel for greenlet (setup.py): started\n",
      "    Building wheel for greenlet (setup.py): finished with status 'error'\n",
      "    ERROR: Command errored out with exit status 1:\n",
      "     command: /Applications/anaconda3/bin/python -u -c 'import io, os, sys, setuptools, tokenize; sys.argv[0] = '\"'\"'/private/var/folders/k_/m27wbdv90p77wwx5p2t6f4600000gn/T/pip-install-b9b8xwgj/greenlet_98672dcf8b1e4c77bccbba5773a75449/setup.py'\"'\"'; __file__='\"'\"'/private/var/folders/k_/m27wbdv90p77wwx5p2t6f4600000gn/T/pip-install-b9b8xwgj/greenlet_98672dcf8b1e4c77bccbba5773a75449/setup.py'\"'\"';f = getattr(tokenize, '\"'\"'open'\"'\"', open)(__file__) if os.path.exists(__file__) else io.StringIO('\"'\"'from setuptools import setup; setup()'\"'\"');code = f.read().replace('\"'\"'\\r\\n'\"'\"', '\"'\"'\\n'\"'\"');f.close();exec(compile(code, __file__, '\"'\"'exec'\"'\"'))' bdist_wheel -d /private/var/folders/k_/m27wbdv90p77wwx5p2t6f4600000gn/T/pip-wheel-ap5fa0lp\n",
      "         cwd: /private/var/folders/k_/m27wbdv90p77wwx5p2t6f4600000gn/T/pip-install-b9b8xwgj/greenlet_98672dcf8b1e4c77bccbba5773a75449/\n",
      "    Complete output (78 lines):\n",
      "    running bdist_wheel\n",
      "    running build\n",
      "    running build_py\n",
      "    creating build\n",
      "    creating build/lib.macosx-10.9-x86_64-3.9\n",
      "    creating build/lib.macosx-10.9-x86_64-3.9/greenlet\n",
      "    copying src/greenlet/__init__.py -> build/lib.macosx-10.9-x86_64-3.9/greenlet\n",
      "    creating build/lib.macosx-10.9-x86_64-3.9/greenlet/platform\n",
      "    copying src/greenlet/platform/__init__.py -> build/lib.macosx-10.9-x86_64-3.9/greenlet/platform\n",
      "    creating build/lib.macosx-10.9-x86_64-3.9/greenlet/tests\n",
      "    copying src/greenlet/tests/__init__.py -> build/lib.macosx-10.9-x86_64-3.9/greenlet/tests\n",
      "    copying src/greenlet/tests/test_contextvars.py -> build/lib.macosx-10.9-x86_64-3.9/greenlet/tests\n",
      "    copying src/greenlet/tests/test_cpp.py -> build/lib.macosx-10.9-x86_64-3.9/greenlet/tests\n",
      "    copying src/greenlet/tests/test_extension_interface.py -> build/lib.macosx-10.9-x86_64-3.9/greenlet/tests\n",
      "    copying src/greenlet/tests/test_gc.py -> build/lib.macosx-10.9-x86_64-3.9/greenlet/tests\n",
      "    copying src/greenlet/tests/test_generator.py -> build/lib.macosx-10.9-x86_64-3.9/greenlet/tests\n",
      "    copying src/greenlet/tests/test_generator_nested.py -> build/lib.macosx-10.9-x86_64-3.9/greenlet/tests\n",
      "    copying src/greenlet/tests/test_greenlet.py -> build/lib.macosx-10.9-x86_64-3.9/greenlet/tests\n",
      "    copying src/greenlet/tests/test_leaks.py -> build/lib.macosx-10.9-x86_64-3.9/greenlet/tests\n",
      "    copying src/greenlet/tests/test_stack_saved.py -> build/lib.macosx-10.9-x86_64-3.9/greenlet/tests\n",
      "    copying src/greenlet/tests/test_throw.py -> build/lib.macosx-10.9-x86_64-3.9/greenlet/tests\n",
      "    copying src/greenlet/tests/test_tracing.py -> build/lib.macosx-10.9-x86_64-3.9/greenlet/tests\n",
      "    copying src/greenlet/tests/test_version.py -> build/lib.macosx-10.9-x86_64-3.9/greenlet/tests\n",
      "    copying src/greenlet/tests/test_weakref.py -> build/lib.macosx-10.9-x86_64-3.9/greenlet/tests\n",
      "    running egg_info\n",
      "    writing src/greenlet.egg-info/PKG-INFO\n",
      "    writing dependency_links to src/greenlet.egg-info/dependency_links.txt\n",
      "    writing requirements to src/greenlet.egg-info/requires.txt\n",
      "    writing top-level names to src/greenlet.egg-info/top_level.txt\n",
      "    reading manifest file 'src/greenlet.egg-info/SOURCES.txt'\n",
      "    reading manifest template 'MANIFEST.in'\n",
      "    no previously-included directories found matching 'docs/_build'\n",
      "    warning: no files found matching '*.py' under directory 'appveyor'\n",
      "    warning: no previously-included files matching '*.pyc' found anywhere in distribution\n",
      "    warning: no previously-included files matching '*.pyd' found anywhere in distribution\n",
      "    warning: no previously-included files matching '*.so' found anywhere in distribution\n",
      "    warning: no previously-included files matching '.coverage' found anywhere in distribution\n",
      "    adding license file 'LICENSE'\n",
      "    adding license file 'LICENSE.PSF'\n",
      "    adding license file 'AUTHORS'\n",
      "    writing manifest file 'src/greenlet.egg-info/SOURCES.txt'\n",
      "    copying src/greenlet/greenlet.c -> build/lib.macosx-10.9-x86_64-3.9/greenlet\n",
      "    copying src/greenlet/greenlet.h -> build/lib.macosx-10.9-x86_64-3.9/greenlet\n",
      "    copying src/greenlet/slp_platformselect.h -> build/lib.macosx-10.9-x86_64-3.9/greenlet\n",
      "    copying src/greenlet/platform/setup_switch_x64_masm.cmd -> build/lib.macosx-10.9-x86_64-3.9/greenlet/platform\n",
      "    copying src/greenlet/platform/switch_aarch64_gcc.h -> build/lib.macosx-10.9-x86_64-3.9/greenlet/platform\n",
      "    copying src/greenlet/platform/switch_alpha_unix.h -> build/lib.macosx-10.9-x86_64-3.9/greenlet/platform\n",
      "    copying src/greenlet/platform/switch_amd64_unix.h -> build/lib.macosx-10.9-x86_64-3.9/greenlet/platform\n",
      "    copying src/greenlet/platform/switch_arm32_gcc.h -> build/lib.macosx-10.9-x86_64-3.9/greenlet/platform\n",
      "    copying src/greenlet/platform/switch_arm32_ios.h -> build/lib.macosx-10.9-x86_64-3.9/greenlet/platform\n",
      "    copying src/greenlet/platform/switch_csky_gcc.h -> build/lib.macosx-10.9-x86_64-3.9/greenlet/platform\n",
      "    copying src/greenlet/platform/switch_m68k_gcc.h -> build/lib.macosx-10.9-x86_64-3.9/greenlet/platform\n",
      "    copying src/greenlet/platform/switch_mips_unix.h -> build/lib.macosx-10.9-x86_64-3.9/greenlet/platform\n",
      "    copying src/greenlet/platform/switch_ppc64_aix.h -> build/lib.macosx-10.9-x86_64-3.9/greenlet/platform\n",
      "    copying src/greenlet/platform/switch_ppc64_linux.h -> build/lib.macosx-10.9-x86_64-3.9/greenlet/platform\n",
      "    copying src/greenlet/platform/switch_ppc_aix.h -> build/lib.macosx-10.9-x86_64-3.9/greenlet/platform\n",
      "    copying src/greenlet/platform/switch_ppc_linux.h -> build/lib.macosx-10.9-x86_64-3.9/greenlet/platform\n",
      "    copying src/greenlet/platform/switch_ppc_macosx.h -> build/lib.macosx-10.9-x86_64-3.9/greenlet/platform\n",
      "    copying src/greenlet/platform/switch_ppc_unix.h -> build/lib.macosx-10.9-x86_64-3.9/greenlet/platform\n",
      "    copying src/greenlet/platform/switch_riscv_unix.h -> build/lib.macosx-10.9-x86_64-3.9/greenlet/platform\n",
      "    copying src/greenlet/platform/switch_s390_unix.h -> build/lib.macosx-10.9-x86_64-3.9/greenlet/platform\n",
      "    copying src/greenlet/platform/switch_sparc_sun_gcc.h -> build/lib.macosx-10.9-x86_64-3.9/greenlet/platform\n",
      "    copying src/greenlet/platform/switch_x32_unix.h -> build/lib.macosx-10.9-x86_64-3.9/greenlet/platform\n",
      "    copying src/greenlet/platform/switch_x64_masm.asm -> build/lib.macosx-10.9-x86_64-3.9/greenlet/platform\n",
      "    copying src/greenlet/platform/switch_x64_masm.obj -> build/lib.macosx-10.9-x86_64-3.9/greenlet/platform\n",
      "    copying src/greenlet/platform/switch_x64_msvc.h -> build/lib.macosx-10.9-x86_64-3.9/greenlet/platform\n",
      "    copying src/greenlet/platform/switch_x86_msvc.h -> build/lib.macosx-10.9-x86_64-3.9/greenlet/platform\n",
      "    copying src/greenlet/platform/switch_x86_unix.h -> build/lib.macosx-10.9-x86_64-3.9/greenlet/platform\n",
      "    copying src/greenlet/tests/_test_extension.c -> build/lib.macosx-10.9-x86_64-3.9/greenlet/tests\n",
      "    copying src/greenlet/tests/_test_extension_cpp.cpp -> build/lib.macosx-10.9-x86_64-3.9/greenlet/tests\n",
      "    running build_ext\n",
      "    building 'greenlet._greenlet' extension\n",
      "    creating build/temp.macosx-10.9-x86_64-3.9\n",
      "    creating build/temp.macosx-10.9-x86_64-3.9/src\n",
      "    creating build/temp.macosx-10.9-x86_64-3.9/src/greenlet\n",
      "    clang -Wno-unused-result -Wsign-compare -Wunreachable-code -DNDEBUG -fwrapv -O2 -Wall -fPIC -O2 -isystem /Applications/anaconda3/include -arch x86_64 -I/Applications/anaconda3/include -fPIC -O2 -isystem /Applications/anaconda3/include -arch x86_64 -I/Applications/anaconda3/include/python3.9 -c src/greenlet/greenlet.c -o build/temp.macosx-10.9-x86_64-3.9/src/greenlet/greenlet.o\n",
      "    xcode-select: note: no developer tools were found at '/Applications/Xcode.app', requesting install. Choose an option in the dialog to download the command line developer tools.\n",
      "    error: command '/usr/bin/clang' failed with exit code 1\n",
      "    ----------------------------------------\n",
      "    ERROR: Failed building wheel for greenlet\n",
      "    Running setup.py clean for greenlet\n",
      "  Failed to build greenlet\n",
      "  Installing collected packages: pycparser, wheel, setuptools, greenlet, Cython, cffi\n",
      "      Running setup.py install for greenlet: started\n",
      "      Running setup.py install for greenlet: finished with status 'error'\n",
      "      ERROR: Command errored out with exit status 1:\n",
      "       command: /Applications/anaconda3/bin/python -u -c 'import io, os, sys, setuptools, tokenize; sys.argv[0] = '\"'\"'/private/var/folders/k_/m27wbdv90p77wwx5p2t6f4600000gn/T/pip-install-b9b8xwgj/greenlet_98672dcf8b1e4c77bccbba5773a75449/setup.py'\"'\"'; __file__='\"'\"'/private/var/folders/k_/m27wbdv90p77wwx5p2t6f4600000gn/T/pip-install-b9b8xwgj/greenlet_98672dcf8b1e4c77bccbba5773a75449/setup.py'\"'\"';f = getattr(tokenize, '\"'\"'open'\"'\"', open)(__file__) if os.path.exists(__file__) else io.StringIO('\"'\"'from setuptools import setup; setup()'\"'\"');code = f.read().replace('\"'\"'\\r\\n'\"'\"', '\"'\"'\\n'\"'\"');f.close();exec(compile(code, __file__, '\"'\"'exec'\"'\"'))' install --record /private/var/folders/k_/m27wbdv90p77wwx5p2t6f4600000gn/T/pip-record-zv5yfo6m/install-record.txt --single-version-externally-managed --prefix /private/var/folders/k_/m27wbdv90p77wwx5p2t6f4600000gn/T/pip-build-env-t2uqk3ga/overlay --compile --install-headers /private/var/folders/k_/m27wbdv90p77wwx5p2t6f4600000gn/T/pip-build-env-t2uqk3ga/overlay/include/python3.9/greenlet\n",
      "           cwd: /private/var/folders/k_/m27wbdv90p77wwx5p2t6f4600000gn/T/pip-install-b9b8xwgj/greenlet_98672dcf8b1e4c77bccbba5773a75449/\n",
      "      Complete output (78 lines):\n",
      "      running install\n",
      "      running build\n",
      "      running build_py\n",
      "      creating build\n",
      "      creating build/lib.macosx-10.9-x86_64-3.9\n",
      "      creating build/lib.macosx-10.9-x86_64-3.9/greenlet\n",
      "      copying src/greenlet/__init__.py -> build/lib.macosx-10.9-x86_64-3.9/greenlet\n",
      "      creating build/lib.macosx-10.9-x86_64-3.9/greenlet/platform\n",
      "      copying src/greenlet/platform/__init__.py -> build/lib.macosx-10.9-x86_64-3.9/greenlet/platform\n",
      "      creating build/lib.macosx-10.9-x86_64-3.9/greenlet/tests\n",
      "      copying src/greenlet/tests/__init__.py -> build/lib.macosx-10.9-x86_64-3.9/greenlet/tests\n",
      "      copying src/greenlet/tests/test_contextvars.py -> build/lib.macosx-10.9-x86_64-3.9/greenlet/tests\n",
      "      copying src/greenlet/tests/test_cpp.py -> build/lib.macosx-10.9-x86_64-3.9/greenlet/tests\n",
      "      copying src/greenlet/tests/test_extension_interface.py -> build/lib.macosx-10.9-x86_64-3.9/greenlet/tests\n",
      "      copying src/greenlet/tests/test_gc.py -> build/lib.macosx-10.9-x86_64-3.9/greenlet/tests\n",
      "      copying src/greenlet/tests/test_generator.py -> build/lib.macosx-10.9-x86_64-3.9/greenlet/tests\n",
      "      copying src/greenlet/tests/test_generator_nested.py -> build/lib.macosx-10.9-x86_64-3.9/greenlet/tests\n",
      "      copying src/greenlet/tests/test_greenlet.py -> build/lib.macosx-10.9-x86_64-3.9/greenlet/tests\n",
      "      copying src/greenlet/tests/test_leaks.py -> build/lib.macosx-10.9-x86_64-3.9/greenlet/tests\n",
      "      copying src/greenlet/tests/test_stack_saved.py -> build/lib.macosx-10.9-x86_64-3.9/greenlet/tests\n",
      "      copying src/greenlet/tests/test_throw.py -> build/lib.macosx-10.9-x86_64-3.9/greenlet/tests\n",
      "      copying src/greenlet/tests/test_tracing.py -> build/lib.macosx-10.9-x86_64-3.9/greenlet/tests\n",
      "      copying src/greenlet/tests/test_version.py -> build/lib.macosx-10.9-x86_64-3.9/greenlet/tests\n",
      "      copying src/greenlet/tests/test_weakref.py -> build/lib.macosx-10.9-x86_64-3.9/greenlet/tests\n",
      "      running egg_info\n",
      "      writing src/greenlet.egg-info/PKG-INFO\n",
      "      writing dependency_links to src/greenlet.egg-info/dependency_links.txt\n",
      "      writing requirements to src/greenlet.egg-info/requires.txt\n",
      "      writing top-level names to src/greenlet.egg-info/top_level.txt\n",
      "      reading manifest file 'src/greenlet.egg-info/SOURCES.txt'\n",
      "      reading manifest template 'MANIFEST.in'\n",
      "      no previously-included directories found matching 'docs/_build'\n",
      "      warning: no files found matching '*.py' under directory 'appveyor'\n",
      "      warning: no previously-included files matching '*.pyc' found anywhere in distribution\n",
      "      warning: no previously-included files matching '*.pyd' found anywhere in distribution\n",
      "      warning: no previously-included files matching '*.so' found anywhere in distribution\n",
      "      warning: no previously-included files matching '.coverage' found anywhere in distribution\n",
      "      adding license file 'LICENSE'\n",
      "      adding license file 'LICENSE.PSF'\n",
      "      adding license file 'AUTHORS'\n",
      "      writing manifest file 'src/greenlet.egg-info/SOURCES.txt'\n",
      "      copying src/greenlet/greenlet.c -> build/lib.macosx-10.9-x86_64-3.9/greenlet\n",
      "      copying src/greenlet/greenlet.h -> build/lib.macosx-10.9-x86_64-3.9/greenlet\n",
      "      copying src/greenlet/slp_platformselect.h -> build/lib.macosx-10.9-x86_64-3.9/greenlet\n",
      "      copying src/greenlet/platform/setup_switch_x64_masm.cmd -> build/lib.macosx-10.9-x86_64-3.9/greenlet/platform\n",
      "      copying src/greenlet/platform/switch_aarch64_gcc.h -> build/lib.macosx-10.9-x86_64-3.9/greenlet/platform\n",
      "      copying src/greenlet/platform/switch_alpha_unix.h -> build/lib.macosx-10.9-x86_64-3.9/greenlet/platform\n",
      "      copying src/greenlet/platform/switch_amd64_unix.h -> build/lib.macosx-10.9-x86_64-3.9/greenlet/platform\n",
      "      copying src/greenlet/platform/switch_arm32_gcc.h -> build/lib.macosx-10.9-x86_64-3.9/greenlet/platform\n",
      "      copying src/greenlet/platform/switch_arm32_ios.h -> build/lib.macosx-10.9-x86_64-3.9/greenlet/platform\n",
      "      copying src/greenlet/platform/switch_csky_gcc.h -> build/lib.macosx-10.9-x86_64-3.9/greenlet/platform\n",
      "      copying src/greenlet/platform/switch_m68k_gcc.h -> build/lib.macosx-10.9-x86_64-3.9/greenlet/platform\n",
      "      copying src/greenlet/platform/switch_mips_unix.h -> build/lib.macosx-10.9-x86_64-3.9/greenlet/platform\n",
      "      copying src/greenlet/platform/switch_ppc64_aix.h -> build/lib.macosx-10.9-x86_64-3.9/greenlet/platform\n",
      "      copying src/greenlet/platform/switch_ppc64_linux.h -> build/lib.macosx-10.9-x86_64-3.9/greenlet/platform\n",
      "      copying src/greenlet/platform/switch_ppc_aix.h -> build/lib.macosx-10.9-x86_64-3.9/greenlet/platform\n",
      "      copying src/greenlet/platform/switch_ppc_linux.h -> build/lib.macosx-10.9-x86_64-3.9/greenlet/platform\n",
      "      copying src/greenlet/platform/switch_ppc_macosx.h -> build/lib.macosx-10.9-x86_64-3.9/greenlet/platform\n",
      "      copying src/greenlet/platform/switch_ppc_unix.h -> build/lib.macosx-10.9-x86_64-3.9/greenlet/platform\n",
      "      copying src/greenlet/platform/switch_riscv_unix.h -> build/lib.macosx-10.9-x86_64-3.9/greenlet/platform\n",
      "      copying src/greenlet/platform/switch_s390_unix.h -> build/lib.macosx-10.9-x86_64-3.9/greenlet/platform\n",
      "      copying src/greenlet/platform/switch_sparc_sun_gcc.h -> build/lib.macosx-10.9-x86_64-3.9/greenlet/platform\n",
      "      copying src/greenlet/platform/switch_x32_unix.h -> build/lib.macosx-10.9-x86_64-3.9/greenlet/platform\n",
      "      copying src/greenlet/platform/switch_x64_masm.asm -> build/lib.macosx-10.9-x86_64-3.9/greenlet/platform\n",
      "      copying src/greenlet/platform/switch_x64_masm.obj -> build/lib.macosx-10.9-x86_64-3.9/greenlet/platform\n",
      "      copying src/greenlet/platform/switch_x64_msvc.h -> build/lib.macosx-10.9-x86_64-3.9/greenlet/platform\n",
      "      copying src/greenlet/platform/switch_x86_msvc.h -> build/lib.macosx-10.9-x86_64-3.9/greenlet/platform\n",
      "      copying src/greenlet/platform/switch_x86_unix.h -> build/lib.macosx-10.9-x86_64-3.9/greenlet/platform\n",
      "      copying src/greenlet/tests/_test_extension.c -> build/lib.macosx-10.9-x86_64-3.9/greenlet/tests\n",
      "      copying src/greenlet/tests/_test_extension_cpp.cpp -> build/lib.macosx-10.9-x86_64-3.9/greenlet/tests\n",
      "      running build_ext\n",
      "      building 'greenlet._greenlet' extension\n",
      "      creating build/temp.macosx-10.9-x86_64-3.9\n",
      "      creating build/temp.macosx-10.9-x86_64-3.9/src\n",
      "      creating build/temp.macosx-10.9-x86_64-3.9/src/greenlet\n",
      "      clang -Wno-unused-result -Wsign-compare -Wunreachable-code -DNDEBUG -fwrapv -O2 -Wall -fPIC -O2 -isystem /Applications/anaconda3/include -arch x86_64 -I/Applications/anaconda3/include -fPIC -O2 -isystem /Applications/anaconda3/include -arch x86_64 -I/Applications/anaconda3/include/python3.9 -c src/greenlet/greenlet.c -o build/temp.macosx-10.9-x86_64-3.9/src/greenlet/greenlet.o\n",
      "      xcode-select: note: no developer tools were found at '/Applications/Xcode.app', requesting install. Choose an option in the dialog to download the command line developer tools.\n",
      "      error: command '/usr/bin/clang' failed with exit code 1\n",
      "      ----------------------------------------\n",
      "  ERROR: Command errored out with exit status 1: /Applications/anaconda3/bin/python -u -c 'import io, os, sys, setuptools, tokenize; sys.argv[0] = '\"'\"'/private/var/folders/k_/m27wbdv90p77wwx5p2t6f4600000gn/T/pip-install-b9b8xwgj/greenlet_98672dcf8b1e4c77bccbba5773a75449/setup.py'\"'\"'; __file__='\"'\"'/private/var/folders/k_/m27wbdv90p77wwx5p2t6f4600000gn/T/pip-install-b9b8xwgj/greenlet_98672dcf8b1e4c77bccbba5773a75449/setup.py'\"'\"';f = getattr(tokenize, '\"'\"'open'\"'\"', open)(__file__) if os.path.exists(__file__) else io.StringIO('\"'\"'from setuptools import setup; setup()'\"'\"');code = f.read().replace('\"'\"'\\r\\n'\"'\"', '\"'\"'\\n'\"'\"');f.close();exec(compile(code, __file__, '\"'\"'exec'\"'\"'))' install --record /private/var/folders/k_/m27wbdv90p77wwx5p2t6f4600000gn/T/pip-record-zv5yfo6m/install-record.txt --single-version-externally-managed --prefix /private/var/folders/k_/m27wbdv90p77wwx5p2t6f4600000gn/T/pip-build-env-t2uqk3ga/overlay --compile --install-headers /private/var/folders/k_/m27wbdv90p77wwx5p2t6f4600000gn/T/pip-build-env-t2uqk3ga/overlay/include/python3.9/greenlet Check the logs for full command output.\n",
      "  ----------------------------------------\u001b[0m\n",
      "\u001b[33mWARNING: Discarding https://files.pythonhosted.org/packages/c8/18/631398e45c109987f2d8e57f3adda161cc5ff2bd8738ca830c3a2dd41a85/gevent-21.12.0.tar.gz#sha256=f48b64578c367b91fa793bf8eaaaf4995cb93c8bc45860e473bf868070ad094e (from https://pypi.org/simple/gevent/) (requires-python:>=2.7,!=3.0.*,!=3.1.*,!=3.2.*,!=3.3.*,!=3.4.*,!=3.5). Command errored out with exit status 1: /Applications/anaconda3/bin/python /private/var/folders/k_/m27wbdv90p77wwx5p2t6f4600000gn/T/pip-standalone-pip-_xu723ji/__env_pip__.zip/pip install --ignore-installed --no-user --prefix /private/var/folders/k_/m27wbdv90p77wwx5p2t6f4600000gn/T/pip-build-env-t2uqk3ga/overlay --no-warn-script-location --no-binary :none: --only-binary :none: -i https://pypi.org/simple -- 'setuptools >= 40.8.0' wheel 'Cython >= 3.0a9' 'cffi >= 1.12.3 ; platform_python_implementation == '\"'\"'CPython'\"'\"'' 'greenlet >= 0.4.17, < 2.0 ; platform_python_implementation == '\"'\"'CPython'\"'\"'' Check the logs for full command output.\u001b[0m\n",
      "\u001b[?25hCollecting mljar-mercury\n",
      "  Downloading mljar-mercury-1.1.5.tar.gz (4.6 MB)\n",
      "\u001b[K     |████████████████████████████████| 4.6 MB 1.8 MB/s eta 0:00:01\n",
      "\u001b[?25h  Installing build dependencies ... \u001b[?25ldone\n",
      "\u001b[?25h  Getting requirements to build wheel ... \u001b[?25ldone\n",
      "\u001b[?25h    Preparing wheel metadata ... \u001b[?25ldone\n",
      "\u001b[?25h  Downloading mljar-mercury-1.1.4.tar.gz (4.6 MB)\n",
      "\u001b[K     |████████████████████████████████| 4.6 MB 194 kB/s eta 0:00:01\n",
      "\u001b[?25h  Installing build dependencies ... \u001b[?25ldone\n",
      "\u001b[?25h  Getting requirements to build wheel ... \u001b[?25ldone\n",
      "\u001b[?25h    Preparing wheel metadata ... \u001b[?25ldone\n",
      "\u001b[?25h  Downloading mljar-mercury-1.1.3.tar.gz (4.6 MB)\n",
      "\u001b[K     |████████████████████████████████| 4.6 MB 301 kB/s eta 0:00:01\n",
      "\u001b[?25h  Installing build dependencies ... \u001b[?25ldone\n",
      "\u001b[?25h  Getting requirements to build wheel ... \u001b[?25ldone\n",
      "\u001b[?25h    Preparing wheel metadata ... \u001b[?25ldone\n",
      "\u001b[?25h  Downloading mljar-mercury-1.1.2.tar.gz (4.6 MB)\n",
      "\u001b[K     |████████████████████████████████| 4.6 MB 98 kB/s eta 0:00:011\n",
      "\u001b[?25h  Installing build dependencies ... \u001b[?25ldone\n",
      "\u001b[?25h  Getting requirements to build wheel ... \u001b[?25ldone\n",
      "\u001b[?25h    Preparing wheel metadata ... \u001b[?25ldone\n",
      "\u001b[?25h  Downloading mljar-mercury-1.1.1.tar.gz (4.6 MB)\n",
      "\u001b[K     |████████████████████████████████| 4.6 MB 71 kB/s eta 0:00:011\n",
      "\u001b[?25h  Installing build dependencies ... \u001b[?25ldone\n",
      "\u001b[?25h  Getting requirements to build wheel ... \u001b[?25ldone\n",
      "\u001b[?25h    Preparing wheel metadata ... \u001b[?25ldone\n",
      "\u001b[?25h  Downloading mljar-mercury-1.1.0.tar.gz (4.6 MB)\n",
      "\u001b[K     |████████████████████████████████| 4.6 MB 1.1 MB/s eta 0:00:01\n",
      "\u001b[?25h  Installing build dependencies ... \u001b[?25ldone\n",
      "\u001b[?25h  Getting requirements to build wheel ... \u001b[?25ldone\n",
      "\u001b[?25h    Preparing wheel metadata ... \u001b[?25ldone\n",
      "\u001b[?25h  Downloading mljar-mercury-1.0.1.tar.gz (3.9 MB)\n",
      "\u001b[K     |████████████████████████████████| 3.9 MB 21 kB/s  eta 0:00:01\n",
      "\u001b[?25h  Installing build dependencies ... \u001b[?25ldone\n",
      "\u001b[?25h  Getting requirements to build wheel ... \u001b[?25ldone\n",
      "\u001b[?25h    Preparing wheel metadata ... \u001b[?25ldone\n",
      "\u001b[?25h  Downloading mljar-mercury-1.0.0.tar.gz (3.9 MB)\n",
      "\u001b[K     |████████████████████████████████| 3.9 MB 2.1 MB/s eta 0:00:01     |█████████████▍                  | 1.6 MB 4.3 MB/s eta 0:00:01\n",
      "\u001b[?25h  Installing build dependencies ... \u001b[?25ldone\n",
      "\u001b[?25h  Getting requirements to build wheel ... \u001b[?25ldone\n",
      "\u001b[?25h    Preparing wheel metadata ... \u001b[?25ldone\n",
      "\u001b[?25h  Downloading mljar-mercury-0.8.6.tar.gz (3.9 MB)\n",
      "\u001b[K     |████████████████████████████████| 3.9 MB 133 kB/s eta 0:00:01     |████████▌                       | 1.0 MB 142 kB/s eta 0:00:20\n",
      "\u001b[?25h  Installing build dependencies ... \u001b[?25ldone\n",
      "\u001b[?25h  Getting requirements to build wheel ... \u001b[?25ldone\n",
      "\u001b[?25h    Preparing wheel metadata ... \u001b[?25ldone\n",
      "\u001b[?25h  Downloading mljar-mercury-0.8.5.tar.gz (3.9 MB)\n",
      "\u001b[K     |████████████████████████████████| 3.9 MB 2.5 MB/s eta 0:00:01     |████████▎                       | 1.0 MB 2.2 MB/s eta 0:00:02\n",
      "\u001b[?25h  Installing build dependencies ... \u001b[?25ldone\n",
      "\u001b[?25h  Getting requirements to build wheel ... \u001b[?25ldone\n",
      "\u001b[?25h    Preparing wheel metadata ... \u001b[?25ldone\n",
      "\u001b[?25h  Downloading mljar-mercury-0.8.4.tar.gz (3.9 MB)\n",
      "\u001b[K     |████████████████████████████████| 3.9 MB 672 kB/s eta 0:00:01\n",
      "\u001b[?25h  Installing build dependencies ... \u001b[?25ldone\n",
      "\u001b[?25h  Getting requirements to build wheel ... \u001b[?25ldone\n",
      "\u001b[?25h    Preparing wheel metadata ... \u001b[?25ldone\n",
      "\u001b[?25h  Downloading mljar-mercury-0.8.3.tar.gz (3.9 MB)\n",
      "\u001b[K     |████████████████████████████████| 3.9 MB 83 kB/s eta 0:00:011\n",
      "\u001b[?25h  Installing build dependencies ... \u001b[?25ldone\n",
      "\u001b[?25h  Getting requirements to build wheel ... \u001b[?25ldone\n",
      "\u001b[?25h    Preparing wheel metadata ... \u001b[?25ldone\n",
      "\u001b[?25h  Downloading mljar-mercury-0.8.2.tar.gz (3.9 MB)\n",
      "\u001b[K     |████████████████████████████████| 3.9 MB 61 kB/s eta 0:00:016     |█████▎                          | 634 kB 2.0 MB/s eta 0:00:02\n",
      "\u001b[?25h  Installing build dependencies ... \u001b[?25ldone\n",
      "\u001b[?25h  Getting requirements to build wheel ... \u001b[?25ldone\n",
      "\u001b[?25h    Preparing wheel metadata ... \u001b[?25ldone\n",
      "\u001b[?25h  Downloading mljar-mercury-0.8.1.tar.gz (3.9 MB)\n",
      "\u001b[K     |████████████████████████████████| 3.9 MB 66 kB/s eta 0:00:012\n",
      "\u001b[?25h  Installing build dependencies ... \u001b[?25ldone\n",
      "\u001b[?25h  Getting requirements to build wheel ... \u001b[?25ldone\n",
      "\u001b[?25h    Preparing wheel metadata ... \u001b[?25ldone\n",
      "\u001b[?25h  Downloading mljar-mercury-0.8.0.tar.gz (3.9 MB)\n",
      "\u001b[K     |████████████████████████████████| 3.9 MB 221 kB/s eta 0:00:01\n",
      "\u001b[?25h  Installing build dependencies ... \u001b[?25ldone\n",
      "\u001b[?25h  Getting requirements to build wheel ... \u001b[?25ldone\n",
      "\u001b[?25h    Preparing wheel metadata ... \u001b[?25ldone\n",
      "\u001b[?25h  Downloading mljar-mercury-0.7.0.tar.gz (3.9 MB)\n",
      "\u001b[K     |████████████████████████████████| 3.9 MB 1.8 MB/s eta 0:00:01\n",
      "\u001b[?25h  Installing build dependencies ... \u001b[?25ldone\n",
      "\u001b[?25h  Getting requirements to build wheel ... \u001b[?25ldone\n",
      "\u001b[?25h    Preparing wheel metadata ... \u001b[?25ldone\n",
      "\u001b[?25h  Downloading mljar-mercury-0.6.16.tar.gz (3.9 MB)\n",
      "\u001b[K     |████████████████████████████████| 3.9 MB 305 kB/s eta 0:00:01\n",
      "\u001b[?25h  Installing build dependencies ... \u001b[?25ldone\n",
      "\u001b[?25h  Getting requirements to build wheel ... \u001b[?25ldone\n",
      "\u001b[?25h    Preparing wheel metadata ... \u001b[?25ldone\n",
      "\u001b[?25h  Downloading mljar-mercury-0.6.15.tar.gz (3.7 MB)\n",
      "\u001b[K     |████████████████████████████████| 3.7 MB 702 kB/s eta 0:00:01\n",
      "\u001b[?25h  Installing build dependencies ... \u001b[?25ldone\n",
      "\u001b[?25h  Getting requirements to build wheel ... \u001b[?25ldone\n",
      "\u001b[?25h    Preparing wheel metadata ... \u001b[?25ldone\n",
      "\u001b[?25h  Downloading mljar-mercury-0.6.14.tar.gz (3.7 MB)\n",
      "\u001b[K     |████████████████████████████████| 3.7 MB 279 kB/s eta 0:00:01\n",
      "\u001b[?25h  Installing build dependencies ... \u001b[?25ldone\n",
      "\u001b[?25h  Getting requirements to build wheel ... \u001b[?25ldone\n",
      "\u001b[?25h    Preparing wheel metadata ... \u001b[?25ldone\n",
      "\u001b[?25h  Downloading mljar-mercury-0.6.13.tar.gz (3.7 MB)\n",
      "\u001b[K     |████████████████████████████████| 3.7 MB 96 kB/s eta 0:00:011\n",
      "\u001b[?25h  Installing build dependencies ... \u001b[?25ldone\n",
      "\u001b[?25h  Getting requirements to build wheel ... \u001b[?25ldone\n",
      "\u001b[?25h    Preparing wheel metadata ... \u001b[?25ldone\n",
      "\u001b[?25h  Downloading mljar-mercury-0.6.12.tar.gz (3.7 MB)\n",
      "\u001b[K     |████████████████████████████████| 3.7 MB 272 kB/s eta 0:00:01\n",
      "\u001b[?25h  Installing build dependencies ... \u001b[?25ldone\n",
      "\u001b[?25h  Getting requirements to build wheel ... \u001b[?25ldone\n",
      "\u001b[?25h    Preparing wheel metadata ... \u001b[?25ldone\n",
      "\u001b[?25h  Downloading mljar-mercury-0.6.11.tar.gz (3.7 MB)\n",
      "\u001b[K     |████████████████████████████████| 3.7 MB 592 kB/s eta 0:00:01\n",
      "\u001b[?25h  Installing build dependencies ... \u001b[?25ldone\n",
      "\u001b[?25h  Getting requirements to build wheel ... \u001b[?25ldone\n",
      "\u001b[?25h    Preparing wheel metadata ... \u001b[?25ldone\n",
      "\u001b[?25h  Downloading mljar-mercury-0.6.10.tar.gz (3.7 MB)\n",
      "\u001b[K     |████████████████████████████████| 3.7 MB 1.8 MB/s eta 0:00:01\n",
      "\u001b[?25h  Installing build dependencies ... \u001b[?25ldone\n",
      "\u001b[?25h  Getting requirements to build wheel ... \u001b[?25ldone\n",
      "\u001b[?25h    Preparing wheel metadata ... \u001b[?25ldone\n",
      "\u001b[?25h  Downloading mljar-mercury-0.6.9.tar.gz (2.1 MB)\n",
      "\u001b[K     |████████████████████████████████| 2.1 MB 7.5 MB/s eta 0:00:01\n",
      "\u001b[?25h  Installing build dependencies ... \u001b[?25ldone\n",
      "\u001b[?25h  Getting requirements to build wheel ... \u001b[?25ldone\n",
      "\u001b[?25h    Preparing wheel metadata ... \u001b[?25ldone\n",
      "\u001b[?25h  Downloading mljar-mercury-0.6.8.tar.gz (2.1 MB)\n",
      "\u001b[K     |████████████████████████████████| 2.1 MB 2.0 MB/s eta 0:00:01     |██████▌                         | 430 kB 2.0 MB/s eta 0:00:01\n",
      "\u001b[?25h  Installing build dependencies ... \u001b[?25ldone\n",
      "\u001b[?25h  Getting requirements to build wheel ... \u001b[?25ldone\n",
      "\u001b[?25h    Preparing wheel metadata ... \u001b[?25ldone\n",
      "\u001b[?25h  Downloading mljar-mercury-0.6.7.tar.gz (2.1 MB)\n",
      "\u001b[K     |████████████████████████████████| 2.1 MB 66.8 MB/s eta 0:00:01\n",
      "\u001b[?25h  Installing build dependencies ... \u001b[?25ldone\n",
      "\u001b[?25h  Getting requirements to build wheel ... \u001b[?25ldone\n",
      "\u001b[?25h    Preparing wheel metadata ... \u001b[?25ldone\n",
      "\u001b[?25h  Downloading mljar-mercury-0.6.6.tar.gz (2.1 MB)\n",
      "\u001b[K     |████████████████████████████████| 2.1 MB 7.6 MB/s eta 0:00:01\n",
      "\u001b[?25h  Installing build dependencies ... \u001b[?25ldone\n",
      "\u001b[?25h  Getting requirements to build wheel ... \u001b[?25ldone\n",
      "\u001b[?25h    Preparing wheel metadata ... \u001b[?25ldone\n",
      "\u001b[?25h  Downloading mljar-mercury-0.6.5.tar.gz (2.1 MB)\n",
      "\u001b[K     |████████████████████████████████| 2.1 MB 2.2 MB/s eta 0:00:01\n",
      "\u001b[?25h  Installing build dependencies ... \u001b[?25ldone\n",
      "\u001b[?25h  Getting requirements to build wheel ... \u001b[?25ldone\n",
      "\u001b[?25h    Preparing wheel metadata ... \u001b[?25ldone\n",
      "\u001b[?25h  Downloading mljar-mercury-0.6.4.tar.gz (2.1 MB)\n",
      "\u001b[K     |████████████████████████████████| 2.1 MB 73 kB/s eta 0:00:011\n",
      "\u001b[?25h  Installing build dependencies ... \u001b[?25ldone\n",
      "\u001b[?25h  Getting requirements to build wheel ... \u001b[?25ldone\n",
      "\u001b[?25h    Preparing wheel metadata ... \u001b[?25ldone\n",
      "\u001b[?25h  Downloading mljar-mercury-0.6.3.tar.gz (2.1 MB)\n",
      "\u001b[K     |████████████████████████████████| 2.1 MB 53.0 MB/s eta 0:00:01\n",
      "\u001b[?25h  Installing build dependencies ... \u001b[?25ldone\n",
      "\u001b[?25h  Getting requirements to build wheel ... \u001b[?25ldone\n",
      "\u001b[?25h    Preparing wheel metadata ... \u001b[?25ldone\n",
      "\u001b[?25h  Downloading mljar-mercury-0.6.2.tar.gz (2.1 MB)\n",
      "\u001b[K     |████████████████████████████████| 2.1 MB 1.5 MB/s eta 0:00:01     |████████████████████▉           | 1.4 MB 1.5 MB/s eta 0:00:01\n",
      "\u001b[?25h  Installing build dependencies ... \u001b[?25ldone\n",
      "\u001b[?25h  Getting requirements to build wheel ... \u001b[?25ldone\n",
      "\u001b[?25h    Preparing wheel metadata ... \u001b[?25ldone\n",
      "\u001b[?25h  Downloading mljar-mercury-0.6.1.tar.gz (2.1 MB)\n",
      "\u001b[K     |████████████████████████████████| 2.1 MB 75 kB/s eta 0:00:011\n",
      "\u001b[?25h  Installing build dependencies ... \u001b[?25ldone\n",
      "\u001b[?25h  Getting requirements to build wheel ... \u001b[?25ldone\n",
      "\u001b[?25h    Preparing wheel metadata ... \u001b[?25ldone\n",
      "\u001b[?25h  Downloading mljar-mercury-0.6.0.tar.gz (2.1 MB)\n",
      "\u001b[K     |████████████████████████████████| 2.1 MB 152 kB/s eta 0:00:01\n",
      "\u001b[?25h  Installing build dependencies ... \u001b[?25ldone\n",
      "\u001b[?25h  Getting requirements to build wheel ... \u001b[?25ldone\n",
      "\u001b[?25h    Preparing wheel metadata ... \u001b[?25ldone\n",
      "\u001b[?25h  Downloading mljar-mercury-0.5.1.tar.gz (2.1 MB)\n",
      "\u001b[K     |████████████████████████████████| 2.1 MB 2.4 MB/s eta 0:00:01\n",
      "\u001b[?25h  Installing build dependencies ... \u001b[?25ldone\n",
      "\u001b[?25h  Getting requirements to build wheel ... \u001b[?25ldone\n",
      "\u001b[?25h    Preparing wheel metadata ... \u001b[?25ldone\n",
      "\u001b[?25h  Downloading mljar-mercury-0.5.0.tar.gz (2.1 MB)\n",
      "\u001b[K     |████████████████████████████████| 2.1 MB 2.1 MB/s eta 0:00:01\n",
      "\u001b[?25h  Installing build dependencies ... \u001b[?25ldone\n",
      "\u001b[?25h  Getting requirements to build wheel ... \u001b[?25ldone\n",
      "\u001b[?25h    Preparing wheel metadata ... \u001b[?25ldone\n",
      "\u001b[?25h  Downloading mljar-mercury-0.4.1.tar.gz (2.1 MB)\n",
      "\u001b[K     |████████████████████████████████| 2.1 MB 93 kB/s eta 0:00:011\n",
      "\u001b[?25h  Installing build dependencies ... \u001b[?25ldone\n",
      "\u001b[?25h  Getting requirements to build wheel ... \u001b[?25ldone\n",
      "\u001b[?25h    Preparing wheel metadata ... \u001b[?25ldone\n",
      "\u001b[?25h  Downloading mljar-mercury-0.4.0.tar.gz (2.1 MB)\n",
      "\u001b[K     |████████████████████████████████| 2.1 MB 5.0 MB/s eta 0:00:01\n",
      "\u001b[?25h  Installing build dependencies ... \u001b[?25ldone\n",
      "\u001b[?25h  Getting requirements to build wheel ... \u001b[?25ldone\n",
      "\u001b[?25h    Preparing wheel metadata ... \u001b[?25ldone\n",
      "\u001b[?25h  Downloading mljar-mercury-0.3.0.tar.gz (2.1 MB)\n",
      "\u001b[K     |████████████████████████████████| 2.1 MB 4.0 MB/s eta 0:00:01\n",
      "\u001b[?25h  Installing build dependencies ... \u001b[?25ldone\n",
      "\u001b[?25h  Getting requirements to build wheel ... \u001b[?25ldone\n",
      "\u001b[?25h    Preparing wheel metadata ... \u001b[?25ldone\n",
      "\u001b[?25h  Downloading mljar-mercury-0.2.0.tar.gz (1.6 MB)\n",
      "\u001b[K     |████████████████████████████████| 1.6 MB 5.4 MB/s eta 0:00:01\n",
      "\u001b[?25h  Installing build dependencies ... \u001b[?25ldone\n",
      "\u001b[?25h  Getting requirements to build wheel ... \u001b[?25ldone\n",
      "\u001b[?25h    Preparing wheel metadata ... \u001b[?25ldone\n",
      "\u001b[?25h  Downloading mljar-mercury-0.1.0.tar.gz (1.3 MB)\n",
      "\u001b[K     |████████████████████████████████| 1.3 MB 96 kB/s eta 0:00:011\n",
      "\u001b[?25h  Installing build dependencies ... \u001b[?25ldone\n",
      "\u001b[?25h  Getting requirements to build wheel ... \u001b[?25ldone\n",
      "\u001b[?25h    Preparing wheel metadata ... \u001b[?25ldone\n",
      "\u001b[?25h  Downloading mljar-mercury-0.0.9.tar.gz (1.3 MB)\n",
      "\u001b[K     |████████████████████████████████| 1.3 MB 5.5 MB/s eta 0:00:01\n",
      "\u001b[?25h  Installing build dependencies ... \u001b[?25ldone\n",
      "\u001b[?25h  Getting requirements to build wheel ... \u001b[?25ldone\n",
      "\u001b[?25h    Preparing wheel metadata ... \u001b[?25ldone\n",
      "\u001b[?25h  Downloading mljar-mercury-0.0.8.tar.gz (1.3 MB)\n",
      "\u001b[K     |████████████████████████████████| 1.3 MB 2.1 MB/s eta 0:00:01\n",
      "\u001b[?25h  Installing build dependencies ... \u001b[?25ldone\n",
      "\u001b[?25h  Getting requirements to build wheel ... \u001b[?25ldone\n",
      "\u001b[?25h    Preparing wheel metadata ... \u001b[?25ldone\n",
      "\u001b[?25h  Downloading mljar-mercury-0.0.7.tar.gz (1.3 MB)\n",
      "\u001b[K     |████████████████████████████████| 1.3 MB 85 kB/s eta 0:00:012\n",
      "\u001b[?25h  Installing build dependencies ... \u001b[?25ldone\n",
      "\u001b[?25h  Getting requirements to build wheel ... \u001b[?25ldone\n",
      "\u001b[?25h    Preparing wheel metadata ... \u001b[?25ldone\n",
      "\u001b[?25h  Downloading mljar-mercury-0.0.6.tar.gz (1.3 MB)\n",
      "\u001b[K     |████████████████████████████████| 1.3 MB 98 kB/s eta 0:00:011\n",
      "\u001b[?25h  Installing build dependencies ... \u001b[?25ldone\n",
      "\u001b[?25h  Getting requirements to build wheel ... \u001b[?25ldone\n",
      "\u001b[?25h    Preparing wheel metadata ... \u001b[?25ldone\n",
      "\u001b[?25h  Downloading mljar-mercury-0.0.5.tar.gz (1.3 MB)\n",
      "\u001b[K     |████████████████████████████████| 1.3 MB 2.1 MB/s eta 0:00:01\n",
      "\u001b[?25h  Installing build dependencies ... \u001b[?25ldone\n",
      "\u001b[?25h  Getting requirements to build wheel ... \u001b[?25ldone\n",
      "\u001b[?25h    Preparing wheel metadata ... \u001b[?25ldone\n",
      "\u001b[?25h  Downloading mljar-mercury-0.0.4.tar.gz (1.3 MB)\n",
      "\u001b[K     |████████████████████████████████| 1.3 MB 1.7 MB/s eta 0:00:01\n",
      "\u001b[?25h  Installing build dependencies ... \u001b[?25ldone\n",
      "\u001b[?25h  Getting requirements to build wheel ... \u001b[?25ldone\n",
      "\u001b[?25h    Preparing wheel metadata ... \u001b[?25ldone\n",
      "\u001b[?25h  Downloading mljar-mercury-0.0.3.tar.gz (1.3 MB)\n",
      "\u001b[K     |████████████████████████████████| 1.3 MB 2.5 MB/s eta 0:00:01\n",
      "\u001b[?25h  Installing build dependencies ... \u001b[?25ldone\n",
      "\u001b[?25h  Getting requirements to build wheel ... \u001b[?25ldone\n",
      "\u001b[?25h    Preparing wheel metadata ... \u001b[?25ldone\n",
      "\u001b[?25h  Downloading mljar-mercury-0.0.2.tar.gz (2.6 MB)\n",
      "\u001b[K     |████████████████████████████████| 2.6 MB 836 kB/s eta 0:00:01\n",
      "\u001b[?25h  Installing build dependencies ... \u001b[?25ldone\n",
      "\u001b[?25h  Getting requirements to build wheel ... \u001b[?25ldone\n",
      "\u001b[?25h    Preparing wheel metadata ... \u001b[?25ldone\n",
      "\u001b[?25h  Downloading mljar-mercury-0.0.1.tar.gz (2.6 MB)\n",
      "\u001b[K     |████████████████████████████████| 2.6 MB 2.6 MB/s eta 0:00:01\n",
      "\u001b[?25h  Installing build dependencies ... \u001b[?25ldone\n",
      "\u001b[?25h  Getting requirements to build wheel ... \u001b[?25ldone\n",
      "\u001b[?25h    Preparing wheel metadata ... \u001b[?25ldone\n",
      "\u001b[31mERROR: Cannot install mljar-mercury==0.0.1, mljar-mercury==0.0.2, mljar-mercury==0.0.3, mljar-mercury==0.0.4, mljar-mercury==0.0.5, mljar-mercury==0.0.6, mljar-mercury==0.0.7, mljar-mercury==0.0.8, mljar-mercury==0.0.9, mljar-mercury==0.1.0, mljar-mercury==0.2.0, mljar-mercury==0.3.0, mljar-mercury==0.4.0, mljar-mercury==0.4.1, mljar-mercury==0.5.0, mljar-mercury==0.5.1, mljar-mercury==0.6.0, mljar-mercury==0.6.1, mljar-mercury==0.6.10, mljar-mercury==0.6.11, mljar-mercury==0.6.12, mljar-mercury==0.6.13, mljar-mercury==0.6.14, mljar-mercury==0.6.15, mljar-mercury==0.6.16, mljar-mercury==0.6.2, mljar-mercury==0.6.3, mljar-mercury==0.6.4, mljar-mercury==0.6.5, mljar-mercury==0.6.6, mljar-mercury==0.6.7, mljar-mercury==0.6.8, mljar-mercury==0.6.9, mljar-mercury==0.7.0, mljar-mercury==0.8.0, mljar-mercury==0.8.1, mljar-mercury==0.8.2, mljar-mercury==0.8.3, mljar-mercury==0.8.4, mljar-mercury==0.8.5, mljar-mercury==0.8.6, mljar-mercury==1.0.0, mljar-mercury==1.0.1, mljar-mercury==1.1.0, mljar-mercury==1.1.1, mljar-mercury==1.1.2, mljar-mercury==1.1.3, mljar-mercury==1.1.4, mljar-mercury==1.1.5 and mljar-mercury==1.1.6 because these package versions have conflicting dependencies.\u001b[0m\n",
      "\u001b[?25h\n",
      "The conflict is caused by:\n",
      "    mljar-mercury 1.1.6 depends on gevent==21.12.0\n",
      "    mljar-mercury 1.1.5 depends on gevent==21.12.0\n",
      "    mljar-mercury 1.1.4 depends on gevent==21.12.0\n",
      "    mljar-mercury 1.1.3 depends on gevent==21.12.0\n",
      "    mljar-mercury 1.1.2 depends on gevent==21.12.0\n",
      "    mljar-mercury 1.1.1 depends on gevent==21.12.0\n",
      "    mljar-mercury 1.1.0 depends on gevent==21.12.0\n",
      "    mljar-mercury 1.0.1 depends on gevent==21.12.0\n",
      "    mljar-mercury 1.0.0 depends on gevent==21.12.0\n",
      "    mljar-mercury 0.8.6 depends on gevent==21.12.0\n",
      "    mljar-mercury 0.8.5 depends on gevent==21.12.0\n",
      "    mljar-mercury 0.8.4 depends on gevent==21.12.0\n",
      "    mljar-mercury 0.8.3 depends on gevent==21.12.0\n",
      "    mljar-mercury 0.8.2 depends on gevent==21.12.0\n",
      "    mljar-mercury 0.8.1 depends on gevent==21.12.0\n",
      "    mljar-mercury 0.8.0 depends on gevent==21.12.0\n",
      "    mljar-mercury 0.7.0 depends on gevent==21.12.0\n",
      "    mljar-mercury 0.6.16 depends on gevent==21.12.0\n",
      "    mljar-mercury 0.6.15 depends on gevent==21.12.0\n",
      "    mljar-mercury 0.6.14 depends on gevent==21.12.0\n",
      "    mljar-mercury 0.6.13 depends on gevent==21.12.0\n",
      "    mljar-mercury 0.6.12 depends on gevent==21.12.0\n",
      "    mljar-mercury 0.6.11 depends on gevent==21.12.0\n",
      "    mljar-mercury 0.6.10 depends on gevent==21.12.0\n",
      "    mljar-mercury 0.6.9 depends on gevent==21.12.0\n",
      "    mljar-mercury 0.6.8 depends on gevent==21.12.0\n",
      "    mljar-mercury 0.6.7 depends on gevent==21.12.0\n",
      "    mljar-mercury 0.6.6 depends on gevent==21.12.0\n",
      "    mljar-mercury 0.6.5 depends on gevent==21.12.0\n",
      "    mljar-mercury 0.6.4 depends on gevent==21.12.0\n",
      "    mljar-mercury 0.6.3 depends on gevent==21.12.0\n",
      "    mljar-mercury 0.6.2 depends on gevent==21.12.0\n",
      "    mljar-mercury 0.6.1 depends on gevent==21.12.0\n",
      "    mljar-mercury 0.6.0 depends on gevent==21.12.0\n",
      "    mljar-mercury 0.5.1 depends on gevent==21.12.0\n",
      "    mljar-mercury 0.5.0 depends on gevent==21.12.0\n",
      "    mljar-mercury 0.4.1 depends on gevent==21.12.0\n",
      "    mljar-mercury 0.4.0 depends on gevent==21.12.0\n",
      "    mljar-mercury 0.3.0 depends on gevent==21.12.0\n",
      "    mljar-mercury 0.2.0 depends on gevent==21.12.0\n",
      "    mljar-mercury 0.1.0 depends on gevent==21.12.0\n",
      "    mljar-mercury 0.0.9 depends on gevent==21.12.0\n",
      "    mljar-mercury 0.0.8 depends on gevent==21.12.0\n",
      "    mljar-mercury 0.0.7 depends on gevent==21.12.0\n",
      "    mljar-mercury 0.0.6 depends on gevent==21.12.0\n",
      "    mljar-mercury 0.0.5 depends on gevent==21.12.0\n",
      "    mljar-mercury 0.0.4 depends on gevent==21.12.0\n",
      "    mljar-mercury 0.0.3 depends on gevent==21.12.0\n",
      "    mljar-mercury 0.0.2 depends on gevent==21.12.0\n",
      "    mljar-mercury 0.0.1 depends on gevent==21.12.0\n",
      "\n",
      "To fix this you could try to:\n",
      "1. loosen the range of package versions you've specified\n",
      "2. remove package versions to allow pip attempt to solve the dependency conflict\n",
      "\n",
      "\u001b[31mERROR: ResolutionImpossible: for help visit https://pip.pypa.io/en/latest/user_guide/#fixing-conflicting-dependencies\u001b[0m\n"
     ]
    }
   ],
   "source": [
    "!pip install mljar-mercury "
   ]
  },
  {
   "cell_type": "code",
   "execution_count": 2,
   "id": "25983474",
   "metadata": {},
   "outputs": [
    {
     "name": "stdout",
     "output_type": "stream",
     "text": [
      "Collecting mplfinance\n",
      "  Downloading mplfinance-0.12.9b7-py3-none-any.whl (73 kB)\n",
      "\u001b[K     |████████████████████████████████| 73 kB 495 kB/s eta 0:00:01\n",
      "\u001b[?25hRequirement already satisfied: pandas in /Applications/anaconda3/lib/python3.9/site-packages (from mplfinance) (1.3.4)\n",
      "Requirement already satisfied: matplotlib in /Applications/anaconda3/lib/python3.9/site-packages (from mplfinance) (3.4.3)\n",
      "Requirement already satisfied: pyparsing>=2.2.1 in /Applications/anaconda3/lib/python3.9/site-packages (from matplotlib->mplfinance) (3.0.4)\n",
      "Requirement already satisfied: cycler>=0.10 in /Applications/anaconda3/lib/python3.9/site-packages (from matplotlib->mplfinance) (0.10.0)\n",
      "Requirement already satisfied: python-dateutil>=2.7 in /Applications/anaconda3/lib/python3.9/site-packages (from matplotlib->mplfinance) (2.8.2)\n",
      "Requirement already satisfied: kiwisolver>=1.0.1 in /Applications/anaconda3/lib/python3.9/site-packages (from matplotlib->mplfinance) (1.3.1)\n",
      "Requirement already satisfied: pillow>=6.2.0 in /Applications/anaconda3/lib/python3.9/site-packages (from matplotlib->mplfinance) (8.4.0)\n",
      "Requirement already satisfied: numpy>=1.16 in /Applications/anaconda3/lib/python3.9/site-packages (from matplotlib->mplfinance) (1.20.3)\n",
      "Requirement already satisfied: six in /Applications/anaconda3/lib/python3.9/site-packages (from cycler>=0.10->matplotlib->mplfinance) (1.16.0)\n",
      "Requirement already satisfied: pytz>=2017.3 in /Applications/anaconda3/lib/python3.9/site-packages (from pandas->mplfinance) (2021.3)\n",
      "Installing collected packages: mplfinance\n",
      "Successfully installed mplfinance-0.12.9b7\n"
     ]
    }
   ],
   "source": [
    "!pip install mplfinance"
   ]
  },
  {
   "cell_type": "code",
   "execution_count": 3,
   "id": "e383808b",
   "metadata": {},
   "outputs": [
    {
     "name": "stdout",
     "output_type": "stream",
     "text": [
      "Collecting yfinance\n",
      "  Downloading yfinance-0.2.13-py2.py3-none-any.whl (59 kB)\n",
      "\u001b[K     |████████████████████████████████| 59 kB 446 kB/s eta 0:00:01\n",
      "\u001b[?25hRequirement already satisfied: requests>=2.26 in /Applications/anaconda3/lib/python3.9/site-packages (from yfinance) (2.26.0)\n",
      "Requirement already satisfied: appdirs>=1.4.4 in /Applications/anaconda3/lib/python3.9/site-packages (from yfinance) (1.4.4)\n",
      "Collecting multitasking>=0.0.7\n",
      "  Downloading multitasking-0.0.11-py3-none-any.whl (8.5 kB)\n",
      "Collecting pytz>=2022.5\n",
      "  Downloading pytz-2022.7.1-py2.py3-none-any.whl (499 kB)\n",
      "\u001b[K     |████████████████████████████████| 499 kB 814 kB/s eta 0:00:01\n",
      "\u001b[?25hCollecting lxml>=4.9.1\n",
      "  Downloading lxml-4.9.2.tar.gz (3.7 MB)\n",
      "\u001b[K     |████████████████████████████████| 3.7 MB 634 kB/s eta 0:00:01��█████████       | 2.9 MB 1.8 MB/s eta 0:00:01\n",
      "\u001b[?25hCollecting beautifulsoup4>=4.11.1\n",
      "  Downloading beautifulsoup4-4.12.0-py3-none-any.whl (132 kB)\n",
      "\u001b[K     |████████████████████████████████| 132 kB 1.7 MB/s eta 0:00:01\n",
      "\u001b[?25hRequirement already satisfied: cryptography>=3.3.2 in /Applications/anaconda3/lib/python3.9/site-packages (from yfinance) (3.4.8)\n",
      "Requirement already satisfied: pandas>=1.3.0 in /Applications/anaconda3/lib/python3.9/site-packages (from yfinance) (1.3.4)\n",
      "Collecting frozendict>=2.3.4\n",
      "  Downloading frozendict-2.3.6-cp39-cp39-macosx_10_9_x86_64.whl (35 kB)\n",
      "Requirement already satisfied: html5lib>=1.1 in /Applications/anaconda3/lib/python3.9/site-packages (from yfinance) (1.1)\n",
      "Requirement already satisfied: numpy>=1.16.5 in /Applications/anaconda3/lib/python3.9/site-packages (from yfinance) (1.20.3)\n",
      "Requirement already satisfied: soupsieve>1.2 in /Applications/anaconda3/lib/python3.9/site-packages (from beautifulsoup4>=4.11.1->yfinance) (2.2.1)\n",
      "Requirement already satisfied: cffi>=1.12 in /Applications/anaconda3/lib/python3.9/site-packages (from cryptography>=3.3.2->yfinance) (1.14.6)\n",
      "Requirement already satisfied: pycparser in /Applications/anaconda3/lib/python3.9/site-packages (from cffi>=1.12->cryptography>=3.3.2->yfinance) (2.20)\n",
      "Requirement already satisfied: webencodings in /Applications/anaconda3/lib/python3.9/site-packages (from html5lib>=1.1->yfinance) (0.5.1)\n",
      "Requirement already satisfied: six>=1.9 in /Applications/anaconda3/lib/python3.9/site-packages (from html5lib>=1.1->yfinance) (1.16.0)\n",
      "Requirement already satisfied: python-dateutil>=2.7.3 in /Applications/anaconda3/lib/python3.9/site-packages (from pandas>=1.3.0->yfinance) (2.8.2)\n",
      "Requirement already satisfied: certifi>=2017.4.17 in /Applications/anaconda3/lib/python3.9/site-packages (from requests>=2.26->yfinance) (2021.10.8)\n",
      "Requirement already satisfied: charset-normalizer~=2.0.0 in /Applications/anaconda3/lib/python3.9/site-packages (from requests>=2.26->yfinance) (2.0.4)\n",
      "Requirement already satisfied: urllib3<1.27,>=1.21.1 in /Applications/anaconda3/lib/python3.9/site-packages (from requests>=2.26->yfinance) (1.26.7)\n",
      "Requirement already satisfied: idna<4,>=2.5 in /Applications/anaconda3/lib/python3.9/site-packages (from requests>=2.26->yfinance) (3.2)\n",
      "Building wheels for collected packages: lxml\n",
      "  Building wheel for lxml (setup.py) ... \u001b[?25ldone\n",
      "\u001b[?25h  Created wheel for lxml: filename=lxml-4.9.2-cp39-cp39-macosx_10_9_x86_64.whl size=1743460 sha256=5a10be347051aa99cb4128857e7af2ddc0c4b52fc162927e881db56c5b1c5ec1\n",
      "  Stored in directory: /Users/admin/Library/Caches/pip/wheels/74/7c/5a/e117656a962a1a15a3d2ac1bde4bc6193d62dc5d7e9c51e15e\n",
      "Successfully built lxml\n",
      "Installing collected packages: pytz, multitasking, lxml, frozendict, beautifulsoup4, yfinance\n",
      "  Attempting uninstall: pytz\n",
      "    Found existing installation: pytz 2021.3\n",
      "    Uninstalling pytz-2021.3:\n",
      "      Successfully uninstalled pytz-2021.3\n",
      "  Attempting uninstall: lxml\n",
      "    Found existing installation: lxml 4.6.3\n",
      "    Uninstalling lxml-4.6.3:\n",
      "      Successfully uninstalled lxml-4.6.3\n",
      "  Attempting uninstall: beautifulsoup4\n",
      "    Found existing installation: beautifulsoup4 4.10.0\n",
      "    Uninstalling beautifulsoup4-4.10.0:\n",
      "      Successfully uninstalled beautifulsoup4-4.10.0\n",
      "\u001b[31mERROR: pip's dependency resolver does not currently take into account all the packages that are installed. This behaviour is the source of the following dependency conflicts.\n",
      "conda-repo-cli 1.0.4 requires pathlib, which is not installed.\u001b[0m\n",
      "Successfully installed beautifulsoup4-4.12.0 frozendict-2.3.6 lxml-4.9.2 multitasking-0.0.11 pytz-2022.7.1 yfinance-0.2.13\n"
     ]
    }
   ],
   "source": [
    "!pip install yfinance"
   ]
  },
  {
   "cell_type": "code",
   "execution_count": 28,
   "id": "0f2e106d",
   "metadata": {},
   "outputs": [],
   "source": [
    "import yfinance as yf\n",
    "import mplfinance as mpf\n",
    "import plotly.graph_objects as go"
   ]
  },
  {
   "cell_type": "code",
   "execution_count": 9,
   "id": "562e8fc9",
   "metadata": {},
   "outputs": [],
   "source": [
    "ticker = 'JMIA'"
   ]
  },
  {
   "cell_type": "code",
   "execution_count": 10,
   "id": "091590d9",
   "metadata": {},
   "outputs": [
    {
     "name": "stdout",
     "output_type": "stream",
     "text": [
      "selected ticker: JMIA\n"
     ]
    }
   ],
   "source": [
    "print(f\"selected ticker: {ticker}\")"
   ]
  },
  {
   "cell_type": "code",
   "execution_count": 32,
   "id": "2220ea2f",
   "metadata": {},
   "outputs": [],
   "source": [
    "history = yf.Ticker(ticker).history(period=\"3mo\")\n",
    "history1 = yf.Ticker(ticker).history(period=\"1mo\")"
   ]
  },
  {
   "cell_type": "code",
   "execution_count": 34,
   "id": "4696c237",
   "metadata": {},
   "outputs": [
    {
     "data": {
      "text/plain": [
       "Open            float64\n",
       "High            float64\n",
       "Low             float64\n",
       "Close           float64\n",
       "Volume            int64\n",
       "Dividends       float64\n",
       "Stock Splits    float64\n",
       "dtype: object"
      ]
     },
     "execution_count": 34,
     "metadata": {},
     "output_type": "execute_result"
    }
   ],
   "source": [
    "history.dtypes\n",
    "history1.dtypes"
   ]
  },
  {
   "cell_type": "code",
   "execution_count": 13,
   "id": "c1ac817e",
   "metadata": {},
   "outputs": [],
   "source": [
    "history = history.astype(int)\n",
    "history1 = history1.astype(int)"
   ]
  },
  {
   "cell_type": "code",
   "execution_count": 35,
   "id": "8bc6a036",
   "metadata": {},
   "outputs": [
    {
     "data": {
      "text/plain": [
       "Open            float64\n",
       "High            float64\n",
       "Low             float64\n",
       "Close           float64\n",
       "Volume            int64\n",
       "Dividends       float64\n",
       "Stock Splits    float64\n",
       "dtype: object"
      ]
     },
     "execution_count": 35,
     "metadata": {},
     "output_type": "execute_result"
    }
   ],
   "source": [
    "history.dtypes\n",
    "history1.dtypes"
   ]
  },
  {
   "cell_type": "code",
   "execution_count": 18,
   "id": "20680ba5",
   "metadata": {},
   "outputs": [
    {
     "name": "stdout",
     "output_type": "stream",
     "text": [
      "3 months low: 2\n",
      "3 months high: 4\n"
     ]
    }
   ],
   "source": [
    "print(f\"3 months low: {history.Low.min()}\")\n",
    "print(f\"3 months high: {history.High.max()}\")"
   ]
  },
  {
   "cell_type": "code",
   "execution_count": 36,
   "id": "3dff8439",
   "metadata": {},
   "outputs": [
    {
     "name": "stdout",
     "output_type": "stream",
     "text": [
      "1 months low: 3.1500000953674316\n",
      "1 months high: 4.610000133514404\n"
     ]
    }
   ],
   "source": [
    "print(f\"1 months low: {history1.Low.min()}\")\n",
    "print(f\"1 months high: {history1.High.max()}\")"
   ]
  },
  {
   "cell_type": "code",
   "execution_count": 37,
   "id": "b5308f59",
   "metadata": {},
   "outputs": [
    {
     "data": {
      "text/html": [
       "<div>\n",
       "<style scoped>\n",
       "    .dataframe tbody tr th:only-of-type {\n",
       "        vertical-align: middle;\n",
       "    }\n",
       "\n",
       "    .dataframe tbody tr th {\n",
       "        vertical-align: top;\n",
       "    }\n",
       "\n",
       "    .dataframe thead th {\n",
       "        text-align: right;\n",
       "    }\n",
       "</style>\n",
       "<table border=\"1\" class=\"dataframe\">\n",
       "  <thead>\n",
       "    <tr style=\"text-align: right;\">\n",
       "      <th></th>\n",
       "      <th>Open</th>\n",
       "      <th>High</th>\n",
       "      <th>Low</th>\n",
       "      <th>Close</th>\n",
       "      <th>Volume</th>\n",
       "      <th>Dividends</th>\n",
       "      <th>Stock Splits</th>\n",
       "    </tr>\n",
       "    <tr>\n",
       "      <th>Date</th>\n",
       "      <th></th>\n",
       "      <th></th>\n",
       "      <th></th>\n",
       "      <th></th>\n",
       "      <th></th>\n",
       "      <th></th>\n",
       "      <th></th>\n",
       "    </tr>\n",
       "  </thead>\n",
       "  <tbody>\n",
       "    <tr>\n",
       "      <th>2023-07-12 00:00:00-04:00</th>\n",
       "      <td>4.43</td>\n",
       "      <td>4.465</td>\n",
       "      <td>4.200</td>\n",
       "      <td>4.37</td>\n",
       "      <td>3164400</td>\n",
       "      <td>0.0</td>\n",
       "      <td>0.0</td>\n",
       "    </tr>\n",
       "    <tr>\n",
       "      <th>2023-07-13 00:00:00-04:00</th>\n",
       "      <td>4.44</td>\n",
       "      <td>4.505</td>\n",
       "      <td>4.240</td>\n",
       "      <td>4.33</td>\n",
       "      <td>2404400</td>\n",
       "      <td>0.0</td>\n",
       "      <td>0.0</td>\n",
       "    </tr>\n",
       "    <tr>\n",
       "      <th>2023-07-14 00:00:00-04:00</th>\n",
       "      <td>4.35</td>\n",
       "      <td>4.370</td>\n",
       "      <td>4.120</td>\n",
       "      <td>4.13</td>\n",
       "      <td>1859900</td>\n",
       "      <td>0.0</td>\n",
       "      <td>0.0</td>\n",
       "    </tr>\n",
       "    <tr>\n",
       "      <th>2023-07-17 00:00:00-04:00</th>\n",
       "      <td>4.12</td>\n",
       "      <td>4.455</td>\n",
       "      <td>4.019</td>\n",
       "      <td>4.40</td>\n",
       "      <td>1742400</td>\n",
       "      <td>0.0</td>\n",
       "      <td>0.0</td>\n",
       "    </tr>\n",
       "    <tr>\n",
       "      <th>2023-07-18 00:00:00-04:00</th>\n",
       "      <td>4.41</td>\n",
       "      <td>4.610</td>\n",
       "      <td>4.320</td>\n",
       "      <td>4.35</td>\n",
       "      <td>1734900</td>\n",
       "      <td>0.0</td>\n",
       "      <td>0.0</td>\n",
       "    </tr>\n",
       "  </tbody>\n",
       "</table>\n",
       "</div>"
      ],
      "text/plain": [
       "                           Open   High    Low  Close   Volume  Dividends  \\\n",
       "Date                                                                       \n",
       "2023-07-12 00:00:00-04:00  4.43  4.465  4.200   4.37  3164400        0.0   \n",
       "2023-07-13 00:00:00-04:00  4.44  4.505  4.240   4.33  2404400        0.0   \n",
       "2023-07-14 00:00:00-04:00  4.35  4.370  4.120   4.13  1859900        0.0   \n",
       "2023-07-17 00:00:00-04:00  4.12  4.455  4.019   4.40  1742400        0.0   \n",
       "2023-07-18 00:00:00-04:00  4.41  4.610  4.320   4.35  1734900        0.0   \n",
       "\n",
       "                           Stock Splits  \n",
       "Date                                     \n",
       "2023-07-12 00:00:00-04:00           0.0  \n",
       "2023-07-13 00:00:00-04:00           0.0  \n",
       "2023-07-14 00:00:00-04:00           0.0  \n",
       "2023-07-17 00:00:00-04:00           0.0  \n",
       "2023-07-18 00:00:00-04:00           0.0  "
      ]
     },
     "execution_count": 37,
     "metadata": {},
     "output_type": "execute_result"
    }
   ],
   "source": [
    "history.tail()"
   ]
  },
  {
   "cell_type": "code",
   "execution_count": null,
   "id": "6858f713",
   "metadata": {},
   "outputs": [],
   "source": []
  },
  {
   "cell_type": "code",
   "execution_count": 29,
   "id": "2d6e8880",
   "metadata": {},
   "outputs": [
    {
     "data": {
      "application/vnd.plotly.v1+json": {
       "config": {
        "plotlyServerURL": "https://plot.ly"
       },
       "data": [
        {
         "close": [
          3,
          2,
          2,
          2,
          2,
          2,
          2,
          2,
          2,
          2,
          2,
          2,
          2,
          2,
          2,
          3,
          2,
          2,
          2,
          2,
          2,
          2,
          2,
          3,
          2,
          2,
          2,
          2,
          2,
          2,
          2,
          3,
          3,
          3,
          3,
          3,
          3,
          3,
          3,
          3,
          3,
          3,
          3,
          3,
          3,
          3,
          3,
          3,
          3,
          3,
          3,
          3,
          3,
          3,
          3,
          4,
          4,
          4,
          4,
          4,
          4,
          4
         ],
         "high": [
          3,
          3,
          2,
          2,
          2,
          2,
          2,
          2,
          2,
          2,
          2,
          2,
          2,
          2,
          2,
          3,
          3,
          2,
          2,
          2,
          2,
          3,
          2,
          3,
          3,
          2,
          2,
          2,
          2,
          2,
          2,
          3,
          3,
          3,
          3,
          3,
          3,
          3,
          3,
          3,
          3,
          3,
          3,
          3,
          3,
          3,
          3,
          3,
          3,
          3,
          3,
          3,
          3,
          3,
          3,
          4,
          4,
          4,
          4,
          4,
          4,
          4
         ],
         "low": [
          2,
          2,
          2,
          2,
          2,
          2,
          2,
          2,
          2,
          2,
          2,
          2,
          2,
          2,
          2,
          2,
          2,
          2,
          2,
          2,
          2,
          2,
          2,
          2,
          2,
          2,
          2,
          2,
          2,
          2,
          2,
          2,
          3,
          3,
          3,
          3,
          3,
          3,
          3,
          3,
          3,
          3,
          3,
          3,
          3,
          3,
          3,
          3,
          3,
          3,
          3,
          3,
          3,
          3,
          3,
          3,
          4,
          4,
          4,
          4,
          4,
          4
         ],
         "name": "Candlestick",
         "open": [
          3,
          3,
          2,
          2,
          2,
          2,
          2,
          2,
          2,
          2,
          2,
          2,
          2,
          2,
          2,
          2,
          3,
          2,
          2,
          2,
          2,
          2,
          2,
          2,
          2,
          2,
          2,
          2,
          2,
          2,
          2,
          2,
          3,
          3,
          3,
          3,
          3,
          3,
          3,
          3,
          3,
          3,
          3,
          3,
          3,
          3,
          3,
          3,
          3,
          3,
          3,
          3,
          3,
          3,
          3,
          3,
          4,
          4,
          4,
          4,
          4,
          4
         ],
         "type": "candlestick",
         "x": [
          "2023-04-19T00:00:00-04:00",
          "2023-04-20T00:00:00-04:00",
          "2023-04-21T00:00:00-04:00",
          "2023-04-24T00:00:00-04:00",
          "2023-04-25T00:00:00-04:00",
          "2023-04-26T00:00:00-04:00",
          "2023-04-27T00:00:00-04:00",
          "2023-04-28T00:00:00-04:00",
          "2023-05-01T00:00:00-04:00",
          "2023-05-02T00:00:00-04:00",
          "2023-05-03T00:00:00-04:00",
          "2023-05-04T00:00:00-04:00",
          "2023-05-05T00:00:00-04:00",
          "2023-05-08T00:00:00-04:00",
          "2023-05-09T00:00:00-04:00",
          "2023-05-10T00:00:00-04:00",
          "2023-05-11T00:00:00-04:00",
          "2023-05-12T00:00:00-04:00",
          "2023-05-15T00:00:00-04:00",
          "2023-05-16T00:00:00-04:00",
          "2023-05-17T00:00:00-04:00",
          "2023-05-18T00:00:00-04:00",
          "2023-05-19T00:00:00-04:00",
          "2023-05-22T00:00:00-04:00",
          "2023-05-23T00:00:00-04:00",
          "2023-05-24T00:00:00-04:00",
          "2023-05-25T00:00:00-04:00",
          "2023-05-26T00:00:00-04:00",
          "2023-05-30T00:00:00-04:00",
          "2023-05-31T00:00:00-04:00",
          "2023-06-01T00:00:00-04:00",
          "2023-06-02T00:00:00-04:00",
          "2023-06-05T00:00:00-04:00",
          "2023-06-06T00:00:00-04:00",
          "2023-06-07T00:00:00-04:00",
          "2023-06-08T00:00:00-04:00",
          "2023-06-09T00:00:00-04:00",
          "2023-06-12T00:00:00-04:00",
          "2023-06-13T00:00:00-04:00",
          "2023-06-14T00:00:00-04:00",
          "2023-06-15T00:00:00-04:00",
          "2023-06-16T00:00:00-04:00",
          "2023-06-20T00:00:00-04:00",
          "2023-06-21T00:00:00-04:00",
          "2023-06-22T00:00:00-04:00",
          "2023-06-23T00:00:00-04:00",
          "2023-06-26T00:00:00-04:00",
          "2023-06-27T00:00:00-04:00",
          "2023-06-28T00:00:00-04:00",
          "2023-06-29T00:00:00-04:00",
          "2023-06-30T00:00:00-04:00",
          "2023-07-03T00:00:00-04:00",
          "2023-07-05T00:00:00-04:00",
          "2023-07-06T00:00:00-04:00",
          "2023-07-07T00:00:00-04:00",
          "2023-07-10T00:00:00-04:00",
          "2023-07-11T00:00:00-04:00",
          "2023-07-12T00:00:00-04:00",
          "2023-07-13T00:00:00-04:00",
          "2023-07-14T00:00:00-04:00",
          "2023-07-17T00:00:00-04:00",
          "2023-07-18T00:00:00-04:00"
         ]
        },
        {
         "line": {
          "color": "gray",
          "width": 1
         },
         "mode": "lines",
         "name": "High-Low Connection",
         "type": "scatter",
         "x": [
          "2023-04-19T00:00:00-04:00",
          "2023-04-20T00:00:00-04:00",
          "2023-04-21T00:00:00-04:00",
          "2023-04-24T00:00:00-04:00",
          "2023-04-25T00:00:00-04:00",
          "2023-04-26T00:00:00-04:00",
          "2023-04-27T00:00:00-04:00",
          "2023-04-28T00:00:00-04:00",
          "2023-05-01T00:00:00-04:00",
          "2023-05-02T00:00:00-04:00",
          "2023-05-03T00:00:00-04:00",
          "2023-05-04T00:00:00-04:00",
          "2023-05-05T00:00:00-04:00",
          "2023-05-08T00:00:00-04:00",
          "2023-05-09T00:00:00-04:00",
          "2023-05-10T00:00:00-04:00",
          "2023-05-11T00:00:00-04:00",
          "2023-05-12T00:00:00-04:00",
          "2023-05-15T00:00:00-04:00",
          "2023-05-16T00:00:00-04:00",
          "2023-05-17T00:00:00-04:00",
          "2023-05-18T00:00:00-04:00",
          "2023-05-19T00:00:00-04:00",
          "2023-05-22T00:00:00-04:00",
          "2023-05-23T00:00:00-04:00",
          "2023-05-24T00:00:00-04:00",
          "2023-05-25T00:00:00-04:00",
          "2023-05-26T00:00:00-04:00",
          "2023-05-30T00:00:00-04:00",
          "2023-05-31T00:00:00-04:00",
          "2023-06-01T00:00:00-04:00",
          "2023-06-02T00:00:00-04:00",
          "2023-06-05T00:00:00-04:00",
          "2023-06-06T00:00:00-04:00",
          "2023-06-07T00:00:00-04:00",
          "2023-06-08T00:00:00-04:00",
          "2023-06-09T00:00:00-04:00",
          "2023-06-12T00:00:00-04:00",
          "2023-06-13T00:00:00-04:00",
          "2023-06-14T00:00:00-04:00",
          "2023-06-15T00:00:00-04:00",
          "2023-06-16T00:00:00-04:00",
          "2023-06-20T00:00:00-04:00",
          "2023-06-21T00:00:00-04:00",
          "2023-06-22T00:00:00-04:00",
          "2023-06-23T00:00:00-04:00",
          "2023-06-26T00:00:00-04:00",
          "2023-06-27T00:00:00-04:00",
          "2023-06-28T00:00:00-04:00",
          "2023-06-29T00:00:00-04:00",
          "2023-06-30T00:00:00-04:00",
          "2023-07-03T00:00:00-04:00",
          "2023-07-05T00:00:00-04:00",
          "2023-07-06T00:00:00-04:00",
          "2023-07-07T00:00:00-04:00",
          "2023-07-10T00:00:00-04:00",
          "2023-07-11T00:00:00-04:00",
          "2023-07-12T00:00:00-04:00",
          "2023-07-13T00:00:00-04:00",
          "2023-07-14T00:00:00-04:00",
          "2023-07-17T00:00:00-04:00",
          "2023-07-18T00:00:00-04:00"
         ],
         "y": [
          2.5,
          2.5,
          2,
          2,
          2,
          2,
          2,
          2,
          2,
          2,
          2,
          2,
          2,
          2,
          2,
          2.5,
          2.5,
          2,
          2,
          2,
          2,
          2.5,
          2,
          2.5,
          2.5,
          2,
          2,
          2,
          2,
          2,
          2,
          2.5,
          3,
          3,
          3,
          3,
          3,
          3,
          3,
          3,
          3,
          3,
          3,
          3,
          3,
          3,
          3,
          3,
          3,
          3,
          3,
          3,
          3,
          3,
          3,
          3.5,
          4,
          4,
          4,
          4,
          4,
          4
         ]
        }
       ],
       "layout": {
        "showlegend": false,
        "template": {
         "data": {
          "bar": [
           {
            "error_x": {
             "color": "#f2f5fa"
            },
            "error_y": {
             "color": "#f2f5fa"
            },
            "marker": {
             "line": {
              "color": "rgb(17,17,17)",
              "width": 0.5
             },
             "pattern": {
              "fillmode": "overlay",
              "size": 10,
              "solidity": 0.2
             }
            },
            "type": "bar"
           }
          ],
          "barpolar": [
           {
            "marker": {
             "line": {
              "color": "rgb(17,17,17)",
              "width": 0.5
             },
             "pattern": {
              "fillmode": "overlay",
              "size": 10,
              "solidity": 0.2
             }
            },
            "type": "barpolar"
           }
          ],
          "carpet": [
           {
            "aaxis": {
             "endlinecolor": "#A2B1C6",
             "gridcolor": "#506784",
             "linecolor": "#506784",
             "minorgridcolor": "#506784",
             "startlinecolor": "#A2B1C6"
            },
            "baxis": {
             "endlinecolor": "#A2B1C6",
             "gridcolor": "#506784",
             "linecolor": "#506784",
             "minorgridcolor": "#506784",
             "startlinecolor": "#A2B1C6"
            },
            "type": "carpet"
           }
          ],
          "choropleth": [
           {
            "colorbar": {
             "outlinewidth": 0,
             "ticks": ""
            },
            "type": "choropleth"
           }
          ],
          "contour": [
           {
            "colorbar": {
             "outlinewidth": 0,
             "ticks": ""
            },
            "colorscale": [
             [
              0,
              "#0d0887"
             ],
             [
              0.1111111111111111,
              "#46039f"
             ],
             [
              0.2222222222222222,
              "#7201a8"
             ],
             [
              0.3333333333333333,
              "#9c179e"
             ],
             [
              0.4444444444444444,
              "#bd3786"
             ],
             [
              0.5555555555555556,
              "#d8576b"
             ],
             [
              0.6666666666666666,
              "#ed7953"
             ],
             [
              0.7777777777777778,
              "#fb9f3a"
             ],
             [
              0.8888888888888888,
              "#fdca26"
             ],
             [
              1,
              "#f0f921"
             ]
            ],
            "type": "contour"
           }
          ],
          "contourcarpet": [
           {
            "colorbar": {
             "outlinewidth": 0,
             "ticks": ""
            },
            "type": "contourcarpet"
           }
          ],
          "heatmap": [
           {
            "colorbar": {
             "outlinewidth": 0,
             "ticks": ""
            },
            "colorscale": [
             [
              0,
              "#0d0887"
             ],
             [
              0.1111111111111111,
              "#46039f"
             ],
             [
              0.2222222222222222,
              "#7201a8"
             ],
             [
              0.3333333333333333,
              "#9c179e"
             ],
             [
              0.4444444444444444,
              "#bd3786"
             ],
             [
              0.5555555555555556,
              "#d8576b"
             ],
             [
              0.6666666666666666,
              "#ed7953"
             ],
             [
              0.7777777777777778,
              "#fb9f3a"
             ],
             [
              0.8888888888888888,
              "#fdca26"
             ],
             [
              1,
              "#f0f921"
             ]
            ],
            "type": "heatmap"
           }
          ],
          "heatmapgl": [
           {
            "colorbar": {
             "outlinewidth": 0,
             "ticks": ""
            },
            "colorscale": [
             [
              0,
              "#0d0887"
             ],
             [
              0.1111111111111111,
              "#46039f"
             ],
             [
              0.2222222222222222,
              "#7201a8"
             ],
             [
              0.3333333333333333,
              "#9c179e"
             ],
             [
              0.4444444444444444,
              "#bd3786"
             ],
             [
              0.5555555555555556,
              "#d8576b"
             ],
             [
              0.6666666666666666,
              "#ed7953"
             ],
             [
              0.7777777777777778,
              "#fb9f3a"
             ],
             [
              0.8888888888888888,
              "#fdca26"
             ],
             [
              1,
              "#f0f921"
             ]
            ],
            "type": "heatmapgl"
           }
          ],
          "histogram": [
           {
            "marker": {
             "pattern": {
              "fillmode": "overlay",
              "size": 10,
              "solidity": 0.2
             }
            },
            "type": "histogram"
           }
          ],
          "histogram2d": [
           {
            "colorbar": {
             "outlinewidth": 0,
             "ticks": ""
            },
            "colorscale": [
             [
              0,
              "#0d0887"
             ],
             [
              0.1111111111111111,
              "#46039f"
             ],
             [
              0.2222222222222222,
              "#7201a8"
             ],
             [
              0.3333333333333333,
              "#9c179e"
             ],
             [
              0.4444444444444444,
              "#bd3786"
             ],
             [
              0.5555555555555556,
              "#d8576b"
             ],
             [
              0.6666666666666666,
              "#ed7953"
             ],
             [
              0.7777777777777778,
              "#fb9f3a"
             ],
             [
              0.8888888888888888,
              "#fdca26"
             ],
             [
              1,
              "#f0f921"
             ]
            ],
            "type": "histogram2d"
           }
          ],
          "histogram2dcontour": [
           {
            "colorbar": {
             "outlinewidth": 0,
             "ticks": ""
            },
            "colorscale": [
             [
              0,
              "#0d0887"
             ],
             [
              0.1111111111111111,
              "#46039f"
             ],
             [
              0.2222222222222222,
              "#7201a8"
             ],
             [
              0.3333333333333333,
              "#9c179e"
             ],
             [
              0.4444444444444444,
              "#bd3786"
             ],
             [
              0.5555555555555556,
              "#d8576b"
             ],
             [
              0.6666666666666666,
              "#ed7953"
             ],
             [
              0.7777777777777778,
              "#fb9f3a"
             ],
             [
              0.8888888888888888,
              "#fdca26"
             ],
             [
              1,
              "#f0f921"
             ]
            ],
            "type": "histogram2dcontour"
           }
          ],
          "mesh3d": [
           {
            "colorbar": {
             "outlinewidth": 0,
             "ticks": ""
            },
            "type": "mesh3d"
           }
          ],
          "parcoords": [
           {
            "line": {
             "colorbar": {
              "outlinewidth": 0,
              "ticks": ""
             }
            },
            "type": "parcoords"
           }
          ],
          "pie": [
           {
            "automargin": true,
            "type": "pie"
           }
          ],
          "scatter": [
           {
            "marker": {
             "line": {
              "color": "#283442"
             }
            },
            "type": "scatter"
           }
          ],
          "scatter3d": [
           {
            "line": {
             "colorbar": {
              "outlinewidth": 0,
              "ticks": ""
             }
            },
            "marker": {
             "colorbar": {
              "outlinewidth": 0,
              "ticks": ""
             }
            },
            "type": "scatter3d"
           }
          ],
          "scattercarpet": [
           {
            "marker": {
             "colorbar": {
              "outlinewidth": 0,
              "ticks": ""
             }
            },
            "type": "scattercarpet"
           }
          ],
          "scattergeo": [
           {
            "marker": {
             "colorbar": {
              "outlinewidth": 0,
              "ticks": ""
             }
            },
            "type": "scattergeo"
           }
          ],
          "scattergl": [
           {
            "marker": {
             "line": {
              "color": "#283442"
             }
            },
            "type": "scattergl"
           }
          ],
          "scattermapbox": [
           {
            "marker": {
             "colorbar": {
              "outlinewidth": 0,
              "ticks": ""
             }
            },
            "type": "scattermapbox"
           }
          ],
          "scatterpolar": [
           {
            "marker": {
             "colorbar": {
              "outlinewidth": 0,
              "ticks": ""
             }
            },
            "type": "scatterpolar"
           }
          ],
          "scatterpolargl": [
           {
            "marker": {
             "colorbar": {
              "outlinewidth": 0,
              "ticks": ""
             }
            },
            "type": "scatterpolargl"
           }
          ],
          "scatterternary": [
           {
            "marker": {
             "colorbar": {
              "outlinewidth": 0,
              "ticks": ""
             }
            },
            "type": "scatterternary"
           }
          ],
          "surface": [
           {
            "colorbar": {
             "outlinewidth": 0,
             "ticks": ""
            },
            "colorscale": [
             [
              0,
              "#0d0887"
             ],
             [
              0.1111111111111111,
              "#46039f"
             ],
             [
              0.2222222222222222,
              "#7201a8"
             ],
             [
              0.3333333333333333,
              "#9c179e"
             ],
             [
              0.4444444444444444,
              "#bd3786"
             ],
             [
              0.5555555555555556,
              "#d8576b"
             ],
             [
              0.6666666666666666,
              "#ed7953"
             ],
             [
              0.7777777777777778,
              "#fb9f3a"
             ],
             [
              0.8888888888888888,
              "#fdca26"
             ],
             [
              1,
              "#f0f921"
             ]
            ],
            "type": "surface"
           }
          ],
          "table": [
           {
            "cells": {
             "fill": {
              "color": "#506784"
             },
             "line": {
              "color": "rgb(17,17,17)"
             }
            },
            "header": {
             "fill": {
              "color": "#2a3f5f"
             },
             "line": {
              "color": "rgb(17,17,17)"
             }
            },
            "type": "table"
           }
          ]
         },
         "layout": {
          "annotationdefaults": {
           "arrowcolor": "#f2f5fa",
           "arrowhead": 0,
           "arrowwidth": 1
          },
          "autotypenumbers": "strict",
          "coloraxis": {
           "colorbar": {
            "outlinewidth": 0,
            "ticks": ""
           }
          },
          "colorscale": {
           "diverging": [
            [
             0,
             "#8e0152"
            ],
            [
             0.1,
             "#c51b7d"
            ],
            [
             0.2,
             "#de77ae"
            ],
            [
             0.3,
             "#f1b6da"
            ],
            [
             0.4,
             "#fde0ef"
            ],
            [
             0.5,
             "#f7f7f7"
            ],
            [
             0.6,
             "#e6f5d0"
            ],
            [
             0.7,
             "#b8e186"
            ],
            [
             0.8,
             "#7fbc41"
            ],
            [
             0.9,
             "#4d9221"
            ],
            [
             1,
             "#276419"
            ]
           ],
           "sequential": [
            [
             0,
             "#0d0887"
            ],
            [
             0.1111111111111111,
             "#46039f"
            ],
            [
             0.2222222222222222,
             "#7201a8"
            ],
            [
             0.3333333333333333,
             "#9c179e"
            ],
            [
             0.4444444444444444,
             "#bd3786"
            ],
            [
             0.5555555555555556,
             "#d8576b"
            ],
            [
             0.6666666666666666,
             "#ed7953"
            ],
            [
             0.7777777777777778,
             "#fb9f3a"
            ],
            [
             0.8888888888888888,
             "#fdca26"
            ],
            [
             1,
             "#f0f921"
            ]
           ],
           "sequentialminus": [
            [
             0,
             "#0d0887"
            ],
            [
             0.1111111111111111,
             "#46039f"
            ],
            [
             0.2222222222222222,
             "#7201a8"
            ],
            [
             0.3333333333333333,
             "#9c179e"
            ],
            [
             0.4444444444444444,
             "#bd3786"
            ],
            [
             0.5555555555555556,
             "#d8576b"
            ],
            [
             0.6666666666666666,
             "#ed7953"
            ],
            [
             0.7777777777777778,
             "#fb9f3a"
            ],
            [
             0.8888888888888888,
             "#fdca26"
            ],
            [
             1,
             "#f0f921"
            ]
           ]
          },
          "colorway": [
           "#636efa",
           "#EF553B",
           "#00cc96",
           "#ab63fa",
           "#FFA15A",
           "#19d3f3",
           "#FF6692",
           "#B6E880",
           "#FF97FF",
           "#FECB52"
          ],
          "font": {
           "color": "#f2f5fa"
          },
          "geo": {
           "bgcolor": "rgb(17,17,17)",
           "lakecolor": "rgb(17,17,17)",
           "landcolor": "rgb(17,17,17)",
           "showlakes": true,
           "showland": true,
           "subunitcolor": "#506784"
          },
          "hoverlabel": {
           "align": "left"
          },
          "hovermode": "closest",
          "mapbox": {
           "style": "dark"
          },
          "paper_bgcolor": "rgb(17,17,17)",
          "plot_bgcolor": "rgb(17,17,17)",
          "polar": {
           "angularaxis": {
            "gridcolor": "#506784",
            "linecolor": "#506784",
            "ticks": ""
           },
           "bgcolor": "rgb(17,17,17)",
           "radialaxis": {
            "gridcolor": "#506784",
            "linecolor": "#506784",
            "ticks": ""
           }
          },
          "scene": {
           "xaxis": {
            "backgroundcolor": "rgb(17,17,17)",
            "gridcolor": "#506784",
            "gridwidth": 2,
            "linecolor": "#506784",
            "showbackground": true,
            "ticks": "",
            "zerolinecolor": "#C8D4E3"
           },
           "yaxis": {
            "backgroundcolor": "rgb(17,17,17)",
            "gridcolor": "#506784",
            "gridwidth": 2,
            "linecolor": "#506784",
            "showbackground": true,
            "ticks": "",
            "zerolinecolor": "#C8D4E3"
           },
           "zaxis": {
            "backgroundcolor": "rgb(17,17,17)",
            "gridcolor": "#506784",
            "gridwidth": 2,
            "linecolor": "#506784",
            "showbackground": true,
            "ticks": "",
            "zerolinecolor": "#C8D4E3"
           }
          },
          "shapedefaults": {
           "line": {
            "color": "#f2f5fa"
           }
          },
          "sliderdefaults": {
           "bgcolor": "#C8D4E3",
           "bordercolor": "rgb(17,17,17)",
           "borderwidth": 1,
           "tickwidth": 0
          },
          "ternary": {
           "aaxis": {
            "gridcolor": "#506784",
            "linecolor": "#506784",
            "ticks": ""
           },
           "baxis": {
            "gridcolor": "#506784",
            "linecolor": "#506784",
            "ticks": ""
           },
           "bgcolor": "rgb(17,17,17)",
           "caxis": {
            "gridcolor": "#506784",
            "linecolor": "#506784",
            "ticks": ""
           }
          },
          "title": {
           "x": 0.05
          },
          "updatemenudefaults": {
           "bgcolor": "#506784",
           "borderwidth": 0
          },
          "xaxis": {
           "automargin": true,
           "gridcolor": "#283442",
           "linecolor": "#506784",
           "ticks": "",
           "title": {
            "standoff": 15
           },
           "zerolinecolor": "#283442",
           "zerolinewidth": 2
          },
          "yaxis": {
           "automargin": true,
           "gridcolor": "#283442",
           "linecolor": "#506784",
           "ticks": "",
           "title": {
            "standoff": 15
           },
           "zerolinecolor": "#283442",
           "zerolinewidth": 2
          }
         }
        },
        "title": {
         "text": "JMIA Candlestick Chart with High-Low Connection"
        },
        "xaxis": {
         "rangeslider": {
          "visible": false
         },
         "title": {
          "text": "Date"
         }
        },
        "yaxis": {
         "title": {
          "text": "Price"
         }
        }
       }
      },
      "text/html": [
       "<div>                            <div id=\"45334e18-2ba0-48f1-8692-70a628706a71\" class=\"plotly-graph-div\" style=\"height:525px; width:100%;\"></div>            <script type=\"text/javascript\">                require([\"plotly\"], function(Plotly) {                    window.PLOTLYENV=window.PLOTLYENV || {};                                    if (document.getElementById(\"45334e18-2ba0-48f1-8692-70a628706a71\")) {                    Plotly.newPlot(                        \"45334e18-2ba0-48f1-8692-70a628706a71\",                        [{\"close\":[3,2,2,2,2,2,2,2,2,2,2,2,2,2,2,3,2,2,2,2,2,2,2,3,2,2,2,2,2,2,2,3,3,3,3,3,3,3,3,3,3,3,3,3,3,3,3,3,3,3,3,3,3,3,3,4,4,4,4,4,4,4],\"high\":[3,3,2,2,2,2,2,2,2,2,2,2,2,2,2,3,3,2,2,2,2,3,2,3,3,2,2,2,2,2,2,3,3,3,3,3,3,3,3,3,3,3,3,3,3,3,3,3,3,3,3,3,3,3,3,4,4,4,4,4,4,4],\"low\":[2,2,2,2,2,2,2,2,2,2,2,2,2,2,2,2,2,2,2,2,2,2,2,2,2,2,2,2,2,2,2,2,3,3,3,3,3,3,3,3,3,3,3,3,3,3,3,3,3,3,3,3,3,3,3,3,4,4,4,4,4,4],\"name\":\"Candlestick\",\"open\":[3,3,2,2,2,2,2,2,2,2,2,2,2,2,2,2,3,2,2,2,2,2,2,2,2,2,2,2,2,2,2,2,3,3,3,3,3,3,3,3,3,3,3,3,3,3,3,3,3,3,3,3,3,3,3,3,4,4,4,4,4,4],\"x\":[\"2023-04-19T00:00:00-04:00\",\"2023-04-20T00:00:00-04:00\",\"2023-04-21T00:00:00-04:00\",\"2023-04-24T00:00:00-04:00\",\"2023-04-25T00:00:00-04:00\",\"2023-04-26T00:00:00-04:00\",\"2023-04-27T00:00:00-04:00\",\"2023-04-28T00:00:00-04:00\",\"2023-05-01T00:00:00-04:00\",\"2023-05-02T00:00:00-04:00\",\"2023-05-03T00:00:00-04:00\",\"2023-05-04T00:00:00-04:00\",\"2023-05-05T00:00:00-04:00\",\"2023-05-08T00:00:00-04:00\",\"2023-05-09T00:00:00-04:00\",\"2023-05-10T00:00:00-04:00\",\"2023-05-11T00:00:00-04:00\",\"2023-05-12T00:00:00-04:00\",\"2023-05-15T00:00:00-04:00\",\"2023-05-16T00:00:00-04:00\",\"2023-05-17T00:00:00-04:00\",\"2023-05-18T00:00:00-04:00\",\"2023-05-19T00:00:00-04:00\",\"2023-05-22T00:00:00-04:00\",\"2023-05-23T00:00:00-04:00\",\"2023-05-24T00:00:00-04:00\",\"2023-05-25T00:00:00-04:00\",\"2023-05-26T00:00:00-04:00\",\"2023-05-30T00:00:00-04:00\",\"2023-05-31T00:00:00-04:00\",\"2023-06-01T00:00:00-04:00\",\"2023-06-02T00:00:00-04:00\",\"2023-06-05T00:00:00-04:00\",\"2023-06-06T00:00:00-04:00\",\"2023-06-07T00:00:00-04:00\",\"2023-06-08T00:00:00-04:00\",\"2023-06-09T00:00:00-04:00\",\"2023-06-12T00:00:00-04:00\",\"2023-06-13T00:00:00-04:00\",\"2023-06-14T00:00:00-04:00\",\"2023-06-15T00:00:00-04:00\",\"2023-06-16T00:00:00-04:00\",\"2023-06-20T00:00:00-04:00\",\"2023-06-21T00:00:00-04:00\",\"2023-06-22T00:00:00-04:00\",\"2023-06-23T00:00:00-04:00\",\"2023-06-26T00:00:00-04:00\",\"2023-06-27T00:00:00-04:00\",\"2023-06-28T00:00:00-04:00\",\"2023-06-29T00:00:00-04:00\",\"2023-06-30T00:00:00-04:00\",\"2023-07-03T00:00:00-04:00\",\"2023-07-05T00:00:00-04:00\",\"2023-07-06T00:00:00-04:00\",\"2023-07-07T00:00:00-04:00\",\"2023-07-10T00:00:00-04:00\",\"2023-07-11T00:00:00-04:00\",\"2023-07-12T00:00:00-04:00\",\"2023-07-13T00:00:00-04:00\",\"2023-07-14T00:00:00-04:00\",\"2023-07-17T00:00:00-04:00\",\"2023-07-18T00:00:00-04:00\"],\"type\":\"candlestick\"},{\"line\":{\"color\":\"gray\",\"width\":1},\"mode\":\"lines\",\"name\":\"High-Low Connection\",\"x\":[\"2023-04-19T00:00:00-04:00\",\"2023-04-20T00:00:00-04:00\",\"2023-04-21T00:00:00-04:00\",\"2023-04-24T00:00:00-04:00\",\"2023-04-25T00:00:00-04:00\",\"2023-04-26T00:00:00-04:00\",\"2023-04-27T00:00:00-04:00\",\"2023-04-28T00:00:00-04:00\",\"2023-05-01T00:00:00-04:00\",\"2023-05-02T00:00:00-04:00\",\"2023-05-03T00:00:00-04:00\",\"2023-05-04T00:00:00-04:00\",\"2023-05-05T00:00:00-04:00\",\"2023-05-08T00:00:00-04:00\",\"2023-05-09T00:00:00-04:00\",\"2023-05-10T00:00:00-04:00\",\"2023-05-11T00:00:00-04:00\",\"2023-05-12T00:00:00-04:00\",\"2023-05-15T00:00:00-04:00\",\"2023-05-16T00:00:00-04:00\",\"2023-05-17T00:00:00-04:00\",\"2023-05-18T00:00:00-04:00\",\"2023-05-19T00:00:00-04:00\",\"2023-05-22T00:00:00-04:00\",\"2023-05-23T00:00:00-04:00\",\"2023-05-24T00:00:00-04:00\",\"2023-05-25T00:00:00-04:00\",\"2023-05-26T00:00:00-04:00\",\"2023-05-30T00:00:00-04:00\",\"2023-05-31T00:00:00-04:00\",\"2023-06-01T00:00:00-04:00\",\"2023-06-02T00:00:00-04:00\",\"2023-06-05T00:00:00-04:00\",\"2023-06-06T00:00:00-04:00\",\"2023-06-07T00:00:00-04:00\",\"2023-06-08T00:00:00-04:00\",\"2023-06-09T00:00:00-04:00\",\"2023-06-12T00:00:00-04:00\",\"2023-06-13T00:00:00-04:00\",\"2023-06-14T00:00:00-04:00\",\"2023-06-15T00:00:00-04:00\",\"2023-06-16T00:00:00-04:00\",\"2023-06-20T00:00:00-04:00\",\"2023-06-21T00:00:00-04:00\",\"2023-06-22T00:00:00-04:00\",\"2023-06-23T00:00:00-04:00\",\"2023-06-26T00:00:00-04:00\",\"2023-06-27T00:00:00-04:00\",\"2023-06-28T00:00:00-04:00\",\"2023-06-29T00:00:00-04:00\",\"2023-06-30T00:00:00-04:00\",\"2023-07-03T00:00:00-04:00\",\"2023-07-05T00:00:00-04:00\",\"2023-07-06T00:00:00-04:00\",\"2023-07-07T00:00:00-04:00\",\"2023-07-10T00:00:00-04:00\",\"2023-07-11T00:00:00-04:00\",\"2023-07-12T00:00:00-04:00\",\"2023-07-13T00:00:00-04:00\",\"2023-07-14T00:00:00-04:00\",\"2023-07-17T00:00:00-04:00\",\"2023-07-18T00:00:00-04:00\"],\"y\":[2.5,2.5,2.0,2.0,2.0,2.0,2.0,2.0,2.0,2.0,2.0,2.0,2.0,2.0,2.0,2.5,2.5,2.0,2.0,2.0,2.0,2.5,2.0,2.5,2.5,2.0,2.0,2.0,2.0,2.0,2.0,2.5,3.0,3.0,3.0,3.0,3.0,3.0,3.0,3.0,3.0,3.0,3.0,3.0,3.0,3.0,3.0,3.0,3.0,3.0,3.0,3.0,3.0,3.0,3.0,3.5,4.0,4.0,4.0,4.0,4.0,4.0],\"type\":\"scatter\"}],                        {\"template\":{\"data\":{\"barpolar\":[{\"marker\":{\"line\":{\"color\":\"rgb(17,17,17)\",\"width\":0.5},\"pattern\":{\"fillmode\":\"overlay\",\"size\":10,\"solidity\":0.2}},\"type\":\"barpolar\"}],\"bar\":[{\"error_x\":{\"color\":\"#f2f5fa\"},\"error_y\":{\"color\":\"#f2f5fa\"},\"marker\":{\"line\":{\"color\":\"rgb(17,17,17)\",\"width\":0.5},\"pattern\":{\"fillmode\":\"overlay\",\"size\":10,\"solidity\":0.2}},\"type\":\"bar\"}],\"carpet\":[{\"aaxis\":{\"endlinecolor\":\"#A2B1C6\",\"gridcolor\":\"#506784\",\"linecolor\":\"#506784\",\"minorgridcolor\":\"#506784\",\"startlinecolor\":\"#A2B1C6\"},\"baxis\":{\"endlinecolor\":\"#A2B1C6\",\"gridcolor\":\"#506784\",\"linecolor\":\"#506784\",\"minorgridcolor\":\"#506784\",\"startlinecolor\":\"#A2B1C6\"},\"type\":\"carpet\"}],\"choropleth\":[{\"colorbar\":{\"outlinewidth\":0,\"ticks\":\"\"},\"type\":\"choropleth\"}],\"contourcarpet\":[{\"colorbar\":{\"outlinewidth\":0,\"ticks\":\"\"},\"type\":\"contourcarpet\"}],\"contour\":[{\"colorbar\":{\"outlinewidth\":0,\"ticks\":\"\"},\"colorscale\":[[0.0,\"#0d0887\"],[0.1111111111111111,\"#46039f\"],[0.2222222222222222,\"#7201a8\"],[0.3333333333333333,\"#9c179e\"],[0.4444444444444444,\"#bd3786\"],[0.5555555555555556,\"#d8576b\"],[0.6666666666666666,\"#ed7953\"],[0.7777777777777778,\"#fb9f3a\"],[0.8888888888888888,\"#fdca26\"],[1.0,\"#f0f921\"]],\"type\":\"contour\"}],\"heatmapgl\":[{\"colorbar\":{\"outlinewidth\":0,\"ticks\":\"\"},\"colorscale\":[[0.0,\"#0d0887\"],[0.1111111111111111,\"#46039f\"],[0.2222222222222222,\"#7201a8\"],[0.3333333333333333,\"#9c179e\"],[0.4444444444444444,\"#bd3786\"],[0.5555555555555556,\"#d8576b\"],[0.6666666666666666,\"#ed7953\"],[0.7777777777777778,\"#fb9f3a\"],[0.8888888888888888,\"#fdca26\"],[1.0,\"#f0f921\"]],\"type\":\"heatmapgl\"}],\"heatmap\":[{\"colorbar\":{\"outlinewidth\":0,\"ticks\":\"\"},\"colorscale\":[[0.0,\"#0d0887\"],[0.1111111111111111,\"#46039f\"],[0.2222222222222222,\"#7201a8\"],[0.3333333333333333,\"#9c179e\"],[0.4444444444444444,\"#bd3786\"],[0.5555555555555556,\"#d8576b\"],[0.6666666666666666,\"#ed7953\"],[0.7777777777777778,\"#fb9f3a\"],[0.8888888888888888,\"#fdca26\"],[1.0,\"#f0f921\"]],\"type\":\"heatmap\"}],\"histogram2dcontour\":[{\"colorbar\":{\"outlinewidth\":0,\"ticks\":\"\"},\"colorscale\":[[0.0,\"#0d0887\"],[0.1111111111111111,\"#46039f\"],[0.2222222222222222,\"#7201a8\"],[0.3333333333333333,\"#9c179e\"],[0.4444444444444444,\"#bd3786\"],[0.5555555555555556,\"#d8576b\"],[0.6666666666666666,\"#ed7953\"],[0.7777777777777778,\"#fb9f3a\"],[0.8888888888888888,\"#fdca26\"],[1.0,\"#f0f921\"]],\"type\":\"histogram2dcontour\"}],\"histogram2d\":[{\"colorbar\":{\"outlinewidth\":0,\"ticks\":\"\"},\"colorscale\":[[0.0,\"#0d0887\"],[0.1111111111111111,\"#46039f\"],[0.2222222222222222,\"#7201a8\"],[0.3333333333333333,\"#9c179e\"],[0.4444444444444444,\"#bd3786\"],[0.5555555555555556,\"#d8576b\"],[0.6666666666666666,\"#ed7953\"],[0.7777777777777778,\"#fb9f3a\"],[0.8888888888888888,\"#fdca26\"],[1.0,\"#f0f921\"]],\"type\":\"histogram2d\"}],\"histogram\":[{\"marker\":{\"pattern\":{\"fillmode\":\"overlay\",\"size\":10,\"solidity\":0.2}},\"type\":\"histogram\"}],\"mesh3d\":[{\"colorbar\":{\"outlinewidth\":0,\"ticks\":\"\"},\"type\":\"mesh3d\"}],\"parcoords\":[{\"line\":{\"colorbar\":{\"outlinewidth\":0,\"ticks\":\"\"}},\"type\":\"parcoords\"}],\"pie\":[{\"automargin\":true,\"type\":\"pie\"}],\"scatter3d\":[{\"line\":{\"colorbar\":{\"outlinewidth\":0,\"ticks\":\"\"}},\"marker\":{\"colorbar\":{\"outlinewidth\":0,\"ticks\":\"\"}},\"type\":\"scatter3d\"}],\"scattercarpet\":[{\"marker\":{\"colorbar\":{\"outlinewidth\":0,\"ticks\":\"\"}},\"type\":\"scattercarpet\"}],\"scattergeo\":[{\"marker\":{\"colorbar\":{\"outlinewidth\":0,\"ticks\":\"\"}},\"type\":\"scattergeo\"}],\"scattergl\":[{\"marker\":{\"line\":{\"color\":\"#283442\"}},\"type\":\"scattergl\"}],\"scattermapbox\":[{\"marker\":{\"colorbar\":{\"outlinewidth\":0,\"ticks\":\"\"}},\"type\":\"scattermapbox\"}],\"scatterpolargl\":[{\"marker\":{\"colorbar\":{\"outlinewidth\":0,\"ticks\":\"\"}},\"type\":\"scatterpolargl\"}],\"scatterpolar\":[{\"marker\":{\"colorbar\":{\"outlinewidth\":0,\"ticks\":\"\"}},\"type\":\"scatterpolar\"}],\"scatter\":[{\"marker\":{\"line\":{\"color\":\"#283442\"}},\"type\":\"scatter\"}],\"scatterternary\":[{\"marker\":{\"colorbar\":{\"outlinewidth\":0,\"ticks\":\"\"}},\"type\":\"scatterternary\"}],\"surface\":[{\"colorbar\":{\"outlinewidth\":0,\"ticks\":\"\"},\"colorscale\":[[0.0,\"#0d0887\"],[0.1111111111111111,\"#46039f\"],[0.2222222222222222,\"#7201a8\"],[0.3333333333333333,\"#9c179e\"],[0.4444444444444444,\"#bd3786\"],[0.5555555555555556,\"#d8576b\"],[0.6666666666666666,\"#ed7953\"],[0.7777777777777778,\"#fb9f3a\"],[0.8888888888888888,\"#fdca26\"],[1.0,\"#f0f921\"]],\"type\":\"surface\"}],\"table\":[{\"cells\":{\"fill\":{\"color\":\"#506784\"},\"line\":{\"color\":\"rgb(17,17,17)\"}},\"header\":{\"fill\":{\"color\":\"#2a3f5f\"},\"line\":{\"color\":\"rgb(17,17,17)\"}},\"type\":\"table\"}]},\"layout\":{\"annotationdefaults\":{\"arrowcolor\":\"#f2f5fa\",\"arrowhead\":0,\"arrowwidth\":1},\"autotypenumbers\":\"strict\",\"coloraxis\":{\"colorbar\":{\"outlinewidth\":0,\"ticks\":\"\"}},\"colorscale\":{\"diverging\":[[0,\"#8e0152\"],[0.1,\"#c51b7d\"],[0.2,\"#de77ae\"],[0.3,\"#f1b6da\"],[0.4,\"#fde0ef\"],[0.5,\"#f7f7f7\"],[0.6,\"#e6f5d0\"],[0.7,\"#b8e186\"],[0.8,\"#7fbc41\"],[0.9,\"#4d9221\"],[1,\"#276419\"]],\"sequential\":[[0.0,\"#0d0887\"],[0.1111111111111111,\"#46039f\"],[0.2222222222222222,\"#7201a8\"],[0.3333333333333333,\"#9c179e\"],[0.4444444444444444,\"#bd3786\"],[0.5555555555555556,\"#d8576b\"],[0.6666666666666666,\"#ed7953\"],[0.7777777777777778,\"#fb9f3a\"],[0.8888888888888888,\"#fdca26\"],[1.0,\"#f0f921\"]],\"sequentialminus\":[[0.0,\"#0d0887\"],[0.1111111111111111,\"#46039f\"],[0.2222222222222222,\"#7201a8\"],[0.3333333333333333,\"#9c179e\"],[0.4444444444444444,\"#bd3786\"],[0.5555555555555556,\"#d8576b\"],[0.6666666666666666,\"#ed7953\"],[0.7777777777777778,\"#fb9f3a\"],[0.8888888888888888,\"#fdca26\"],[1.0,\"#f0f921\"]]},\"colorway\":[\"#636efa\",\"#EF553B\",\"#00cc96\",\"#ab63fa\",\"#FFA15A\",\"#19d3f3\",\"#FF6692\",\"#B6E880\",\"#FF97FF\",\"#FECB52\"],\"font\":{\"color\":\"#f2f5fa\"},\"geo\":{\"bgcolor\":\"rgb(17,17,17)\",\"lakecolor\":\"rgb(17,17,17)\",\"landcolor\":\"rgb(17,17,17)\",\"showlakes\":true,\"showland\":true,\"subunitcolor\":\"#506784\"},\"hoverlabel\":{\"align\":\"left\"},\"hovermode\":\"closest\",\"mapbox\":{\"style\":\"dark\"},\"paper_bgcolor\":\"rgb(17,17,17)\",\"plot_bgcolor\":\"rgb(17,17,17)\",\"polar\":{\"angularaxis\":{\"gridcolor\":\"#506784\",\"linecolor\":\"#506784\",\"ticks\":\"\"},\"bgcolor\":\"rgb(17,17,17)\",\"radialaxis\":{\"gridcolor\":\"#506784\",\"linecolor\":\"#506784\",\"ticks\":\"\"}},\"scene\":{\"xaxis\":{\"backgroundcolor\":\"rgb(17,17,17)\",\"gridcolor\":\"#506784\",\"gridwidth\":2,\"linecolor\":\"#506784\",\"showbackground\":true,\"ticks\":\"\",\"zerolinecolor\":\"#C8D4E3\"},\"yaxis\":{\"backgroundcolor\":\"rgb(17,17,17)\",\"gridcolor\":\"#506784\",\"gridwidth\":2,\"linecolor\":\"#506784\",\"showbackground\":true,\"ticks\":\"\",\"zerolinecolor\":\"#C8D4E3\"},\"zaxis\":{\"backgroundcolor\":\"rgb(17,17,17)\",\"gridcolor\":\"#506784\",\"gridwidth\":2,\"linecolor\":\"#506784\",\"showbackground\":true,\"ticks\":\"\",\"zerolinecolor\":\"#C8D4E3\"}},\"shapedefaults\":{\"line\":{\"color\":\"#f2f5fa\"}},\"sliderdefaults\":{\"bgcolor\":\"#C8D4E3\",\"bordercolor\":\"rgb(17,17,17)\",\"borderwidth\":1,\"tickwidth\":0},\"ternary\":{\"aaxis\":{\"gridcolor\":\"#506784\",\"linecolor\":\"#506784\",\"ticks\":\"\"},\"baxis\":{\"gridcolor\":\"#506784\",\"linecolor\":\"#506784\",\"ticks\":\"\"},\"bgcolor\":\"rgb(17,17,17)\",\"caxis\":{\"gridcolor\":\"#506784\",\"linecolor\":\"#506784\",\"ticks\":\"\"}},\"title\":{\"x\":0.05},\"updatemenudefaults\":{\"bgcolor\":\"#506784\",\"borderwidth\":0},\"xaxis\":{\"automargin\":true,\"gridcolor\":\"#283442\",\"linecolor\":\"#506784\",\"ticks\":\"\",\"title\":{\"standoff\":15},\"zerolinecolor\":\"#283442\",\"zerolinewidth\":2},\"yaxis\":{\"automargin\":true,\"gridcolor\":\"#283442\",\"linecolor\":\"#506784\",\"ticks\":\"\",\"title\":{\"standoff\":15},\"zerolinecolor\":\"#283442\",\"zerolinewidth\":2}}},\"xaxis\":{\"rangeslider\":{\"visible\":false},\"title\":{\"text\":\"Date\"}},\"title\":{\"text\":\"JMIA Candlestick Chart with High-Low Connection\"},\"yaxis\":{\"title\":{\"text\":\"Price\"}},\"showlegend\":false},                        {\"responsive\": true}                    ).then(function(){\n",
       "                            \n",
       "var gd = document.getElementById('45334e18-2ba0-48f1-8692-70a628706a71');\n",
       "var x = new MutationObserver(function (mutations, observer) {{\n",
       "        var display = window.getComputedStyle(gd).display;\n",
       "        if (!display || display === 'none') {{\n",
       "            console.log([gd, 'removed!']);\n",
       "            Plotly.purge(gd);\n",
       "            observer.disconnect();\n",
       "        }}\n",
       "}});\n",
       "\n",
       "// Listen for the removal of the full notebook cells\n",
       "var notebookContainer = gd.closest('#notebook-container');\n",
       "if (notebookContainer) {{\n",
       "    x.observe(notebookContainer, {childList: true});\n",
       "}}\n",
       "\n",
       "// Listen for the clearing of the current output cell\n",
       "var outputEl = gd.closest('.output');\n",
       "if (outputEl) {{\n",
       "    x.observe(outputEl, {childList: true});\n",
       "}}\n",
       "\n",
       "                        })                };                });            </script>        </div>"
      ]
     },
     "metadata": {},
     "output_type": "display_data"
    }
   ],
   "source": [
    "fig = go.Figure()\n",
    "\n",
    "# Add candlestick trace\n",
    "fig.add_trace(go.Candlestick(x=history.index,\n",
    "                             open=history['Open'],\n",
    "                             high=history['High'],\n",
    "                             low=history['Low'],\n",
    "                             close=history['Close'],\n",
    "                             name='Candlestick'))\n",
    "\n",
    "fig.add_trace(go.Scatter(x=history.index,\n",
    "                         y=(history['High'] + history['Low']) / 2,\n",
    "                         mode='lines',\n",
    "                         line=dict(color='gray', width=1),\n",
    "                         name='High-Low Connection'))\n",
    "\n",
    "# Customize the layout\n",
    "fig.update_layout(title=f\"{ticker} Candlestick Chart with High-Low Connection\",\n",
    "                  xaxis_title=\"Date\",\n",
    "                  yaxis_title=\"Price\",\n",
    "                  xaxis_rangeslider_visible=False,\n",
    "                  showlegend=False,\n",
    "                  template='plotly_dark')\n",
    "\n",
    "# Show the plot\n",
    "fig.show()"
   ]
  },
  {
   "cell_type": "code",
   "execution_count": 39,
   "id": "023cc7f2",
   "metadata": {},
   "outputs": [
    {
     "data": {
      "image/png": "[encoded data removed]",
      "text/plain": [
       "<Figure size 1800x1000 with 2 Axes>"
      ]
     },
     "metadata": {},
     "output_type": "display_data"
    }
   ],
   "source": [
    "#visualisation showing the trading performance in the last one month.\n",
    "\n",
    "mc = mpf.make_marketcolors(up='g', down='r', edge='i', wick='i', volume='in')\n",
    "s = mpf.make_mpf_style(base_mpl_style='seaborn-whitegrid', marketcolors=mc)\n",
    "\n",
    "# Plot the candlestick chart with the custom style\n",
    "mpf.plot(history1, type='candle', mav=(7), figsize=(18, 10), style=s)"
   ]
  },
  {
   "cell_type": "code",
   "execution_count": null,
   "id": "3c5fb03b",
   "metadata": {},
   "outputs": [],
   "source": []
  }
 ],
 "metadata": {
  "kernelspec": {
   "display_name": "Python 3 (ipykernel)",
   "language": "python",
   "name": "python3"
  },
  "language_info": {
   "codemirror_mode": {
    "name": "ipython",
    "version": 3
   },
   "file_extension": ".py",
   "mimetype": "text/x-python",
   "name": "python",
   "nbconvert_exporter": "python",
   "pygments_lexer": "ipython3",
   "version": "3.9.7"
  }
 },
 "nbformat": 4,
 "nbformat_minor": 5
}
